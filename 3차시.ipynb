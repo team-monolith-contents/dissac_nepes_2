{
 "cells": [
  {
   "cell_type": "markdown",
   "id": "ecd78426-2260-4c15-9c72-c84484fa1f40",
   "metadata": {},
   "source": [
    "<div style=\"padding: 15px; border: 5px solid transparent; border-color: transparent; margin-bottom: 20px; border-radius: 4px; color: #3c763d; background-color: #dff0d8; border-color: #d6e9c6; font-weight: bold;\">\n",
    "    <br><br>\n",
    "    <div style=\"font-weight: bold; font-size: 40px\">데이터 과학</div>\n",
    "    <div style=\"font-weight: bold; font-size: 20px\">(3) 데이터 전처리 과정 - 데이터 크기 조정</div>\n",
    "    <hr style=\"width:80%;text-align:left;margin-left:0;border:0.5px solid green\">\n",
    "    <br>\n",
    "    &#x2022; 인덱싱을 사용하여 시리즈(Series)에 부분적으로 접근할 수 있다. <br>\n",
    "    &#x2022; 이름을 이용해 데이터프레임(DataFrame)에 부분적으로 접근할 수 있다.<br>\n",
    "    &#x2022; 위치를 이용해 데이터프레임(DataFrame)에 부분적으로 접근할 수 있다.<br>\n",
    "</div>"
   ]
  },
  {
   "cell_type": "markdown",
   "id": "971aeea0-55c0-4536-8aeb-979941d00b5d",
   "metadata": {
    "tags": []
   },
   "source": [
    "<div style=\"padding: 15px; border: 5px solid transparent; border-color: transparent; margin-bottom: 20px; border-radius: 4px; color: #3c763d; border-color: #d6e9c6; font-weight: bold;\">\n",
    "<h3 style='font-weight: bold'>1. 시리즈(Series) 인덱싱</h3>\n",
    "</div> "
   ]
  },
  {
   "cell_type": "markdown",
   "id": "d2452df7-ba7c-499d-83b3-9ffc9f1e6edd",
   "metadata": {},
   "source": [
    "데이터를 사용할 때에는 데이터의 전체를 사용할 때도 있지만 데이터의 특정 부분만을 가져와 사용하는 경우가 있습니다.  \n",
    "데이터를 인덱싱(indexing)하여 원하는 부분만 가져와 사용할 수 있습니다.\n",
    "\n",
    "> **✏️ 알아봅시다(NOTE):** 인덱싱(indexing)이 무엇인가요?  \n",
    ">\n",
    "> 인덱싱은 데이터의 특정 부분에 접근하는 방법입니다.  \n",
    "> 데이터에서 원하는 부분만을 가져와 사용할 수 있습니다.\n",
    "> "
   ]
  },
  {
   "cell_type": "markdown",
   "id": "e6823e4d-4a36-4770-889d-5c3106f11542",
   "metadata": {},
   "source": [
    "## 위치 정보를 이용해 데이터 인덱싱하기\n",
    "\n",
    "시리즈는 리스트(list) 처럼 원하는 데이터의 위치 정보를 이용해 데이터를 인덱싱할 수 있습니다.\n",
    "\n",
    "> **⚠️ 주의(WARNING):**\n",
    ">\n",
    "> 시리즈의 위치는 리스트와 마찬가지로 0부터 시작됩니다.\n",
    "\n",
    "1. 하나의 데이터 인덱싱하기  \n",
    "`Series[n]`: 시리즈의 'n+1'번째 데이터를 가져옵니다.  \n",
    "\n",
    "<table>\n",
    "<tr>\n",
    "    <th><img src=\"https://tmn-bucket-materials-all.s3.ap-northeast-2.amazonaws.com/image/pandas/material_03_05.gif\" width=\"750\"></th>\n",
    "</tr>\n",
    "<tr>\n",
    "    <th>시리즈에서 하나의 데이터 인덱싱</th>\n",
    "</tr>\n",
    "</table>\n",
    "\n",
    "2. 연속된 여러개의 데이터 인덱싱하기  \n",
    "`Series[a:b]`: 시리즈의 'a+1'번째부터 'b'번째 데이터를 시리즈의 형태로 가져옵니다.  \n",
    "\n",
    "<table>\n",
    "<tr>\n",
    "    <th><img src=\"https://tmn-bucket-materials-all.s3.ap-northeast-2.amazonaws.com/image/pandas/material_03_06.gif\" width=\"750\"></th>\n",
    "</tr>\n",
    "<tr>\n",
    "    <th>시리즈에서 연속된 여러개의 데이터 인덱싱</th>\n",
    "</tr>\n",
    "</table>\n",
    "\n",
    "3. 연속되지 않은 여러개의 데이터 인덱싱하기  \n",
    "`Series[[0, 1]]`: 시리즈의 첫 번째, 두 번째 데이터를 시리즈의 형태로 가져옵니다.  \n",
    "`Series[[1, 0]]`: 시리즈의 두 번째, 첫 번째 데이터를 시리즈의 형태로 가져옵니다.  \n",
    "\n",
    "<table>\n",
    "<tr>\n",
    "    <th><img src=\"https://tmn-bucket-materials-all.s3.ap-northeast-2.amazonaws.com/image/pandas/material_03_07.gif\" width=\"750\"></th>\n",
    "</tr>\n",
    "<tr>\n",
    "    <th>시리즈에서 연속되지 않은 여러개의 데이터 인덱싱</th>\n",
    "</tr>\n",
    "</table>"
   ]
  },
  {
   "cell_type": "markdown",
   "id": "444dba41-3a03-4521-bc7d-fb572aeb9535",
   "metadata": {},
   "source": [
    "**예제 1 : 시리즈에서 하나의 데이터 인덱싱**"
   ]
  },
  {
   "cell_type": "code",
   "execution_count": null,
   "id": "d5ab1e3a-cd78-4fef-bb29-58061e14a665",
   "metadata": {
    "tags": []
   },
   "outputs": [],
   "source": [
    "# 예제_1_시리즈에서_하나의_데이터_인덱싱\n",
    "\n",
    "import pandas as pd\n",
    "\n",
    "df = pd.read_csv('https://tmn-bucket-materials-all.s3.ap-northeast-2.amazonaws.com/data/midterm_exam_result.csv')\n",
    "\n",
    "score = pd.Series(df['프로그래밍'])\n",
    "score.index = df['이름']\n",
    "\n",
    "print('#'*30, f\"{'score':^15s}\" , '#' * 30, '\\n') # 출력되는 결과들을 분리해서 보여주기 위한 코드입니다.\n",
    "print(score)\n",
    "print('\\n','#'*30, f\"{'score[5]':^15s}\" , '#' * 30, '\\n') # 출력되는 결과들을 분리해서 보여주기 위한 코드입니다.\n",
    "print(score[5])\n",
    "print('\\n','#'*30, f\"{'score[5]':^15s}\" , '#' * 30, '\\n') # 출력되는 결과들을 분리해서 보여주기 위한 코드입니다.\n",
    "print(score[13])"
   ]
  },
  {
   "cell_type": "markdown",
   "id": "262604da-17e1-4ad5-ab69-7b8a33aeea2f",
   "metadata": {},
   "source": [
    "**예제 2 : 시리즈에서 연속된 여러개의 데이터 인덱싱**"
   ]
  },
  {
   "cell_type": "code",
   "execution_count": null,
   "id": "a3ef4c31-5a3c-4515-950a-cf025c94c3fd",
   "metadata": {
    "tags": []
   },
   "outputs": [],
   "source": [
    "# 예제_2_시리즈에서_연속된_여러개의_데이터_인덱싱\n",
    "\n",
    "import pandas as pd\n",
    "\n",
    "df = pd.read_csv('https://tmn-bucket-materials-all.s3.ap-northeast-2.amazonaws.com/data/midterm_exam_result.csv')\n",
    "\n",
    "score = pd.Series(df['프로그래밍'])\n",
    "score.index = df['이름']\n",
    "\n",
    "print('#'*30, f\"{'score':^15s}\" , '#' * 30, '\\n') # 출력되는 결과들을 분리해서 보여주기 위한 코드입니다.\n",
    "print(score)\n",
    "print('\\n','#'*30, f\"{'score[5:10]':^15s}\" , '#' * 30, '\\n') # 출력되는 결과들을 분리해서 보여주기 위한 코드입니다.\n",
    "print(score[5:10])\n",
    "print('\\n','#'*30, f\"{'score[13:15]':^15s}\" , '#' * 30, '\\n') # 출력되는 결과들을 분리해서 보여주기 위한 코드입니다.\n",
    "print(score[13:15])"
   ]
  },
  {
   "cell_type": "markdown",
   "id": "c91cdeb5-a984-4c13-9c7c-d277678940ec",
   "metadata": {},
   "source": [
    "**예제 3 : 시리즈에서 연속되지 않은 여러개의 데이터 인덱싱**"
   ]
  },
  {
   "cell_type": "code",
   "execution_count": null,
   "id": "b89de911-9af4-4793-b89c-f596478a436f",
   "metadata": {
    "error_code": "# 예제_3_잘못_사용된_if문\n\nn = int(input(\"숫자를 입력하세요\"))\nif n = 5: # if 뒤에 True 또는 False로 표현할 수 있는 표현식이 사용되지 않았습니다.\n    print(\"n은 5 입니다!\")  ",
    "tags": []
   },
   "outputs": [],
   "source": [
    "# 예제_3_시리즈에서_연속되지_않은_여러개의_데이터_인덱싱\n",
    "\n",
    "import pandas as pd\n",
    "\n",
    "df = pd.read_csv('https://tmn-bucket-materials-all.s3.ap-northeast-2.amazonaws.com/data/midterm_exam_result.csv')\n",
    "\n",
    "score = pd.Series(df['프로그래밍'])\n",
    "score.index = df['이름']\n",
    "\n",
    "print('#'*30, f\"{'score':^15s}\" , '#' * 30, '\\n') # 출력되는 결과들을 분리해서 보여주기 위한 코드입니다.\n",
    "print(score)\n",
    "print('\\n','#'*30, f\"{'score[[5,6,10,12]]':^15s}\" , '#' * 30, '\\n') # 출력되는 결과들을 분리해서 보여주기 위한 코드입니다.\n",
    "print(score[[5,6,10,12]])\n",
    "print('\\n','#'*30, f\"{'score[[1,3,5]]':^15s}\" , '#' * 30, '\\n') # 출력되는 결과들을 분리해서 보여주기 위한 코드입니다.\n",
    "print(score[[1,3,5]])"
   ]
  },
  {
   "cell_type": "markdown",
   "id": "e8c9986c-cfb3-43ee-bc9a-3bdfb3539609",
   "metadata": {},
   "source": [
    "## 인덱스 정보를 이용해 데이터 인덱싱하기\n",
    "\n",
    "시리즈는 딕셔너리(dictionary) 처럼 원하는 데이터의 인덱스를 이용해 데이터를 인덱싱할 수 있습니다.\n",
    "\n",
    "> **⛔️ 오류(ERROR):**\n",
    ">\n",
    "> 시리즈에 존재하지 않는 인덱스를 사용하면 오류가 발생합니다.\n",
    "\n",
    "1. 하나의 데이터 인덱싱하기  \n",
    "`Series['인덱스']`: 시리즈의 '인덱스'에 해당하는 데이터를 가져옵니다.  \n",
    "\n",
    "<table>\n",
    "<tr>\n",
    "    <th><img src=\"https://tmn-bucket-materials-all.s3.ap-northeast-2.amazonaws.com/image/pandas/material_04_01_04.gif\" width=\"750\"></th>\n",
    "</tr>\n",
    "<tr>\n",
    "    <th>시리즈에서 인덱스를 정보를 이용해 하나의 데이터 인덱싱</th>\n",
    "</tr>\n",
    "</table>\n",
    "\n",
    "2. 연속된 여러개의 데이터 인덱싱하기  \n",
    "`Series['인덱스1':'인덱스2']`: 시리즈의 '인덱스1'부터 '인덱스2'까지의 데이터를 시리즈의 형태로 가져옵니다.  \n",
    "\n",
    "<table>\n",
    "<tr>\n",
    "    <th><img src=\"https://tmn-bucket-materials-all.s3.ap-northeast-2.amazonaws.com/image/pandas/material_04_01_05.gif\" width=\"750\"></th>\n",
    "</tr>\n",
    "<tr>\n",
    "    <th>시리즈에서 인덱스를 정보를 이용해 연속된 여러개의 데이터 인덱싱</th>\n",
    "</tr>\n",
    "</table>\n",
    "\n",
    "3. 연속되지 않은 여러개의 데이터 인덱싱하기  \n",
    "`Series[['인덱스1', '인덱스2']]`: 시리즈의  '인덱스1', '인덱스2'에 해당하는 데이터를 시리즈의 형태로 가져옵니다.  \n",
    "`Series[['인덱스2', '인덱스1']]`: 시리즈의  '인덱스2', '인덱스1'에 해당하는 데이터를 시리즈의 형태로 가져옵니다.  \n",
    "\n",
    "<table>\n",
    "<tr>\n",
    "    <th><img src=\"https://tmn-bucket-materials-all.s3.ap-northeast-2.amazonaws.com/image/pandas/material_04_01_06.gif\" width=\"750\"></th>\n",
    "</tr>\n",
    "<tr>\n",
    "    <th>시리즈에서 인덱스를 정보를 이용해 연속되지 않은 여러개의 데이터 인덱싱</th>\n",
    "</tr>\n",
    "</table>\n",
    "\n",
    "> **⚠️ 주의(WARNING):**\n",
    ">\n",
    "> [a:b]의 방법으로 연속된 데이터를 인덱싱할 때에 위치 정보를 사용하는지, 인덱스 정보를 사용하는지에 따라 결과가 달라 주의해야 합니다.\n",
    ">  - 위치 정보 이용: [1:3] 4번째 행은 포함되지 않습니다.\n",
    ">  - 인덱스 정보 이용: ['인덱스1':'인덱스2'] '인덱스2' 행이 포함됩니다."
   ]
  },
  {
   "cell_type": "markdown",
   "id": "1f90c411-487e-41aa-a4d0-c940939df1ab",
   "metadata": {},
   "source": [
    "**예제 4 : 시리즈에서 인덱스 정보 이용하여 하나의 데이터 인덱싱**"
   ]
  },
  {
   "cell_type": "code",
   "execution_count": null,
   "id": "a508ca29-9388-45f2-acf6-0dd7f63ba7a9",
   "metadata": {},
   "outputs": [],
   "source": [
    "# 예제_4_시리즈에서_인덱스정보_이용하여_하나의_데이터_인덱싱\n",
    "\n",
    "import pandas as pd\n",
    "\n",
    "df = pd.read_csv('https://tmn-bucket-materials-all.s3.ap-northeast-2.amazonaws.com/data/midterm_exam_result.csv')\n",
    "\n",
    "score = pd.Series(df['프로그래밍'])\n",
    "score.index = df['이름']\n",
    "\n",
    "print('#'*30, f\"{'score':^15s}\" , '#' * 30, '\\n') # 출력되는 결과들을 분리해서 보여주기 위한 코드입니다.\n",
    "print(score)\n",
    "print('\\n','#'*30, \"{:^15s}\".format('score[\"이민서\"]') , '#' * 30, '\\n') # 출력되는 결과들을 분리해서 보여주기 위한 코드입니다.\n",
    "print(score[\"이민서\"])\n",
    "print('\\n','#'*30, \"{:^15s}\".format('score[\"박채원\"]') , '#' * 30, '\\n') # 출력되는 결과들을 분리해서 보여주기 위한 코드입니다.\n",
    "print(score[\"박채원\"])"
   ]
  },
  {
   "cell_type": "markdown",
   "id": "02b3bf5f-354f-4f32-8e59-ce2c4221dd3c",
   "metadata": {},
   "source": [
    "**예제 5 : 시리즈에서 인덱스 정보 이용하여 연속된 여러개의 데이터 인덱싱**"
   ]
  },
  {
   "cell_type": "code",
   "execution_count": null,
   "id": "e778a8bc-345b-41fd-b0c6-f522c8febf23",
   "metadata": {},
   "outputs": [],
   "source": [
    "# 예제_5_시리즈에서_인덱스정보_이용하여_연속된_여러개의_데이터_인덱싱\n",
    "\n",
    "import pandas as pd\n",
    "\n",
    "df = pd.read_csv('https://tmn-bucket-materials-all.s3.ap-northeast-2.amazonaws.com/data/midterm_exam_result.csv')\n",
    "\n",
    "score = pd.Series(df['프로그래밍'])\n",
    "score.index = df['이름']\n",
    "\n",
    "print('#'*30, f\"{'score':^15s}\" , '#' * 30, '\\n') # 출력되는 결과들을 분리해서 보여주기 위한 코드입니다.\n",
    "print(score)\n",
    "print('\\n','#'*30, \"{:^15s}\".format('score[\"이민서\":\"박채원\"]') , '#' * 30, '\\n') # 출력되는 결과들을 분리해서 보여주기 위한 코드입니다.\n",
    "print(score[\"이민서\":\"박채원\"])\n",
    "print('\\n','#'*30, \"{:^15s}\".format('score[\"박채원\":\"정예준\"]') , '#' * 30, '\\n') # 출력되는 결과들을 분리해서 보여주기 위한 코드입니다.\n",
    "print(score[\"박채원\":\"정예준\"])"
   ]
  },
  {
   "cell_type": "markdown",
   "id": "9ac423e1-71eb-405c-8d08-44f9784f4366",
   "metadata": {},
   "source": [
    "**예제 6 : 시리즈에서 인덱스 정보 이용하여 연속되지 않은 여러개의 데이터 인덱싱**"
   ]
  },
  {
   "cell_type": "code",
   "execution_count": null,
   "id": "a5bfe25e-8ef3-422a-88aa-2e57536d1df3",
   "metadata": {},
   "outputs": [],
   "source": [
    "# 예제_6_시리즈에서_인덱스정보_이용하여_연속되지_않은_여러개의_데이터_인덱싱\n",
    "\n",
    "import pandas as pd\n",
    "\n",
    "df = pd.read_csv('https://tmn-bucket-materials-all.s3.ap-northeast-2.amazonaws.com/data/midterm_exam_result.csv')\n",
    "\n",
    "score = pd.Series(df['프로그래밍'])\n",
    "score.index = df['이름']\n",
    "\n",
    "print('#'*30, f\"{'score':^15s}\" , '#' * 30, '\\n') # 출력되는 결과들을 분리해서 보여주기 위한 코드입니다.\n",
    "print(score)\n",
    "print('\\n','#'*30, \"{:^15s}\".format('score[[\"이민서\",\"채수아\",\"김서준\",\"박채원\"]]') , '#' * 30, '\\n') # 출력되는 결과들을 분리해서 보여주기 위한 코드입니다.\n",
    "print(score[[\"이민서\",\"채수아\",\"김서준\",\"박채원\"]])\n",
    "print('\\n','#'*30, \"{:^15s}\".format('(score[[\"박채원\",\"박도윤\",\"정예준\"]]') , '#' * 30, '\\n') # 출력되는 결과들을 분리해서 보여주기 위한 코드입니다.\n",
    "print(score[[\"박채원\",\"박도윤\",\"정예준\"]])"
   ]
  },
  {
   "cell_type": "markdown",
   "id": "f60aca76-4dd6-423f-98fd-b7e7932c1a11",
   "metadata": {},
   "source": [
    "<div style=\"padding: 15px; border: 5px solid transparent; border-color: transparent; margin-bottom: 20px; border-radius: 4px; color: #31708f; border-color: #bce8f1;\">\n",
    "    <div style=\"font-weight: bold; font-size: 20px\">🚄 더 해보기</div>\n",
    "어떠한 경우에 인덱싱을 통해 특정 데이터에 접근해야 할까요?\n",
    "</div>"
   ]
  },
  {
   "cell_type": "code",
   "execution_count": null,
   "id": "64ce1dac-5eef-42bc-ab2f-6a930126c17e",
   "metadata": {},
   "outputs": [],
   "source": [
    "질문에 대한 대답을 여기에 적어봅시다."
   ]
  },
  {
   "cell_type": "markdown",
   "id": "bb22c8ed-9169-474f-b3bc-1e50a5a79e4e",
   "metadata": {},
   "source": [
    "<div style=\"padding: 15px; border: 5px solid transparent; border-color: transparent; margin-bottom: 20px; border-radius: 4px; color: #8a6d3b;  border-color: #faebcc;\">\n",
    "    <div style=\"font-weight: bold; font-size: 20px\">💯 연습문제를 풀어봅시다</div>\n",
    "</div>"
   ]
  },
  {
   "cell_type": "markdown",
   "id": "a92e6835-00bf-4dd2-abc7-c3034cdab0f3",
   "metadata": {},
   "source": [
    "1. <a class=\"jcecodle-mk jcecodle-mk__problem-chip\" data-problem-id=\"85Z2jvqifdo\" href='#jce-judge/open/85Z2jvqifdo' target='_self'><span>판다스 기초 - 시리즈 인덱싱 순번 이용 (1)</span></a>\n",
    "\n",
    "2. <a class=\"jcecodle-mk jcecodle-mk__problem-chip\" data-problem-id=\"mEJX6nUojpk\" href='#jce-judge/open/mEJX6nUojpk' target='_self'><span>상품 시리즈 인덱싱</span></a>\n",
    "\n",
    "\n",
    "4. <a class=\"jcecodle-mk jcecodle-mk__problem-chip\" data-problem-id=\"2pC2Zvg9LkY\" href='#jce-judge/open/2pC2Zvg9LkY' target='_self'><span>판다스 기초 - 시리즈 인덱싱 순번 이용 (2)</span></a>\n",
    "\n",
    "5. <a class=\"jcecodle-mk jcecodle-mk__problem-chip\" data-problem-id=\"E4yxB-12C0c\" href='#jce-judge/open/E4yxB-12C0c' target='_self'><span>연속 3줄 인덱싱</span></a>\n",
    "\n",
    "\n",
    "7. <a class=\"jcecodle-mk jcecodle-mk__problem-chip\" data-problem-id=\"YKhP6f05A60\" href='#jce-judge/open/YKhP6f05A60' target='_self'><span>판다스 기초 - 시리즈 인덱싱 불연속한 다수행</span></a>\n",
    "\n",
    "\n",
    "9. <a class=\"jcecodle-mk jcecodle-mk__problem-chip\" data-problem-id=\"uOUUxOYUevk\" href='#jce-judge/open/uOUUxOYUevk' target='_self'><span>홀수행 인덱싱</span></a>\n",
    "\n",
    "10. <a class=\"jcecodle-mk jcecodle-mk__problem-chip\" data-problem-id=\"-fJrKazhUCc\" href='#jce-judge/open/-fJrKazhUCc' target='_self'><span>판다스 기초 - 시리즈 인덱싱 이름 이용(1)</span></a>\n",
    "\n",
    "11. <a class=\"jcecodle-mk jcecodle-mk__problem-chip\" data-problem-id=\"BW1n3ugNlfc\" href='#jce-judge/open/BW1n3ugNlfc' target='_self'><span>가족 시리즈 인덱싱</span></a>\n",
    "\n",
    "\n",
    "13. <a class=\"jcecodle-mk jcecodle-mk__problem-chip\" data-problem-id=\"py3oeSeoqxk\" href='#jce-judge/open/py3oeSeoqxk' target='_self'><span>판다스 기초 - 시리즈 인덱싱 이름 이용 (2)</span></a>\n",
    "\n",
    "14. <a class=\"jcecodle-mk jcecodle-mk__problem-chip\" data-problem-id=\"-kmyKPqL8Qw\" href='#jce-judge/open/-kmyKPqL8Qw' target='_self'><span>성적 시리즈 인덱싱 (2)</span></a>\n",
    "\n",
    "15. <a class=\"jcecodle-mk jcecodle-mk__problem-chip\" data-problem-id=\"pN_CQGS4B8c\" href='#jce-judge/open/pN_CQGS4B8c' target='_self'><span>판다스 기초 - 시리즈 인덱싱 불연속한 다수행 (2)</span></a>\n",
    "\n",
    "16. <a class=\"jcecodle-mk jcecodle-mk__problem-chip\" data-problem-id=\"OWcA8MHupII\" href='#jce-judge/open/OWcA8MHupII' target='_self'><span>결제 비용 (2)</span></a>"
   ]
  },
  {
   "cell_type": "markdown",
   "id": "724a7348-21d8-4b28-8016-7d55128a51a3",
   "metadata": {
    "tags": []
   },
   "source": [
    "<div style=\"padding: 15px; border: 5px solid transparent; border-color: transparent; margin-bottom: 20px; border-radius: 4px; color: #3c763d; border-color: #d6e9c6; font-weight: bold;\">\n",
    "<h3 style='font-weight: bold'>2. 데이터프레임(DataFrame) 이름 기반 인덱싱</h3>\n",
    "</div> "
   ]
  },
  {
   "cell_type": "markdown",
   "id": "0f57e1fd-aae8-43eb-832a-b510e76cf64e",
   "metadata": {},
   "source": [
    "데이터프레임도 시리즈와 마찬가지로 특정 부분만 가져와 사용할 경우가 있습니다.  \n",
    "데이터프레임에서는 특정 열, 특정 행, 특정 행과 열을 가지는 데이터를 가져올 수 있습니다.  \n",
    "\n",
    "데이터프레임을 인덱실 할 때에는 열과 행을 잘 구분해야 합니다."
   ]
  },
  {
   "cell_type": "markdown",
   "id": "cb8c268b-33ef-4068-bb57-8a904d650176",
   "metadata": {},
   "source": [
    "## 열이름 정보를 이용해 데이터프레임의 열 인덱싱하기\n",
    "\n",
    "열이름 정보를 이용해 데이터프레임의 원하는 열을 가져올 수 있습니다.\n",
    "\n",
    "1. 하나의 열 인덱싱하기  \n",
    "`DataFrame[\"열이름\"]` : 데이터프레임에서 \"열이름\"에 해당하는 열을 가져옵니다.  \n",
    "\n",
    "<table>\n",
    "<tr>\n",
    "    <th><img src=\"https://tmn-bucket-materials-all.s3.ap-northeast-2.amazonaws.com/image/pandas/material_03_08.gif\" width=\"750\"></th>\n",
    "</tr>\n",
    "<tr>\n",
    "    <th>데이터프레임에서 열이름정보 이용해 하나의 열에 인덱싱</th>\n",
    "</tr>\n",
    "</table>\n",
    "\n",
    "2. 여러개의 열 인덱싱하기  \n",
    "`DataFrame[[\"열이름1\", \"열이름2\"]]` : 데이터프레임에서 \"열이름1\", \"열이름2\"에 해당하는 열을 가져옵니다.  \n",
    "\n",
    "<table>\n",
    "<tr>\n",
    "    <th><img src=\"https://tmn-bucket-materials-all.s3.ap-northeast-2.amazonaws.com/image/pandas/material_03_09.gif\" width=\"750\"></th>\n",
    "</tr>\n",
    "<tr>\n",
    "    <th>데이터프레임에서 열이름정보 이용해 여러개의 열에 인덱싱</th>\n",
    "</tr>\n",
    "</table>\n"
   ]
  },
  {
   "cell_type": "markdown",
   "id": "5a9f54ef-0254-4c48-b32e-59c949802581",
   "metadata": {},
   "source": [
    "<div style=\"padding: 15px; border: 5px solid transparent; border-color: transparent; margin-bottom: 20px; border-radius: 4px; color: #a94442; border-color: #ebccd1;\">\n",
    "    <div style=\"font-weight: bold; font-size: 20px\">💣 자주만나는 오류</div>\n",
    "    `DataFrame[\"열이름1\":\"열이름2\"]`으로 연속된 열에 접근할 수 없습니다. <br>\n",
    "    해당 방법을 사용하면 오류가 발생합니다.<br>\n",
    "\n",
    "</div>"
   ]
  },
  {
   "cell_type": "markdown",
   "id": "71603894-a613-4219-b9b2-ccc8942c5de5",
   "metadata": {},
   "source": [
    "**예제 1 : 데이터프레임에서 하나의 열에 인덱싱**"
   ]
  },
  {
   "cell_type": "code",
   "execution_count": null,
   "id": "ca87b4a8-2b4b-4ecb-b5bc-44684c67fcb0",
   "metadata": {},
   "outputs": [],
   "source": [
    "# 예제_1_데이터프레임에서_하나의_열에_인덱싱\n",
    "\n",
    "import pandas as pd\n",
    "\n",
    "score = pd.read_csv('https://tmn-bucket-materials-all.s3.ap-northeast-2.amazonaws.com/data/midterm_exam_result.csv')\n",
    "score.index = score['이름']\n",
    "score = score.iloc[:,1:]\n",
    "\n",
    "print('#'*30, f\"{'score':^15s}\" , '#' * 30, '\\n') # 출력되는 결과들을 분리해서 보여주기 위한 코드입니다.\n",
    "print(score)\n",
    "print('\\n','#'*30, \"{:^15s}\".format('score[\"국어\"]') , '#' * 30, '\\n') # 출력되는 결과들을 분리해서 보여주기 위한 코드입니다.\n",
    "print(score[\"국어\"])\n",
    "print('\\n','#'*30, \"{:^15s}\".format('score[\"프로그래밍\"]') , '#' * 30, '\\n') # 출력되는 결과들을 분리해서 보여주기 위한 코드입니다.\n",
    "print(score[\"프로그래밍\"])"
   ]
  },
  {
   "cell_type": "markdown",
   "id": "fe51f8e2-af3c-426b-b3f6-203726baeda9",
   "metadata": {},
   "source": [
    "**예제 2 : 데이터프레임에서 여러개의 열에 인덱싱**"
   ]
  },
  {
   "cell_type": "code",
   "execution_count": null,
   "id": "766638be-b5ae-4ebb-8e94-92cba3aedd4e",
   "metadata": {},
   "outputs": [],
   "source": [
    "# 예제_2_데이터프레임에서_여러개의_열에_인덱싱\n",
    "\n",
    "import pandas as pd\n",
    "\n",
    "score = pd.read_csv('https://tmn-bucket-materials-all.s3.ap-northeast-2.amazonaws.com/data/midterm_exam_result.csv')\n",
    "score.index = score['이름']\n",
    "score = score.iloc[:,1:]\n",
    "\n",
    "print('#'*30, f\"{'score':^15s}\" , '#' * 30, '\\n') # 출력되는 결과들을 분리해서 보여주기 위한 코드입니다.\n",
    "print(score)\n",
    "print('\\n','#'*30, \"{:^15s}\".format('score[[\"국어\",\"영어\"]]') , '#' * 30, '\\n') # 출력되는 결과들을 분리해서 보여주기 위한 코드입니다.\n",
    "print(score[[\"국어\",\"영어\"]])\n",
    "print('\\n','#'*30, \"{:^15s}\".format('score[[\"국어\",\"영어\",\"프로그래밍\",\"한국사\"]]') , '#' * 30, '\\n') # 출력되는 결과들을 분리해서 보여주기 위한 코드입니다.\n",
    "print(score[[\"국어\",\"영어\",\"프로그래밍\",\"한국사\"]])"
   ]
  },
  {
   "cell_type": "markdown",
   "id": "632501ac-e53b-4cf5-af92-2144382fa1b8",
   "metadata": {},
   "source": [
    "## 인덱스 정보를 이용해 데이터프레임의 행 인덱싱하기\n",
    "\n",
    "`loc`을 사용하면 데이터프레임의 인덱스 정보를 이용해 원하는 행을 가져올 수 있습니다.\n",
    "\n",
    "1. 하나의 행 인덱싱하기  \n",
    "`DataFrame.loc['인덱스']`: 데이터프레임의 '인덱스'에 해당하는 행을 가져옵니다.  \n",
    "\n",
    "<table>\n",
    "<tr>\n",
    "    <th><img src=\"https://tmn-bucket-materials-all.s3.ap-northeast-2.amazonaws.com/image/pandas/material_03_10.gif\" width=\"750\"></th>\n",
    "</tr>\n",
    "<tr>\n",
    "    <th>데이터프레임에서 인덱스 정보를 이용해 하나의 행에 인덱싱</th>\n",
    "</tr>\n",
    "</table>\n",
    "\n",
    "2. 연속된 여러개의 행 인덱싱하기  \n",
    "`DataFrame.loc['인덱스1':'인덱스2']`: 데이터프레임의 '인덱스1'부터 '인덱스2'까지 행을 데이터프레임의 형태로 가져옵니다.  \n",
    "\n",
    "<table>\n",
    "<tr>\n",
    "    <th><img src=\"https://tmn-bucket-materials-all.s3.ap-northeast-2.amazonaws.com/image/pandas/material_03_11.gif\" width=\"750\"></th>\n",
    "</tr>\n",
    "<tr>\n",
    "    <th>데이터프레임에서 인덱스 정보를 이용해 연속된 여러개의 행에 인덱싱</th>\n",
    "</tr>\n",
    "</table>\n",
    "\n",
    "3. 연속되지 않은 여러개의 행 인덱싱하기  \n",
    "`DataFrame.loc[['인덱스1', '인덱스2']]`: 데이터프레임의  '인덱스1', '인덱스2'에 해당하는 행을 데이터프레임의 형태로 가져옵니다.  \n",
    "\n",
    "<table>\n",
    "<tr>\n",
    "    <th><img src=\"https://tmn-bucket-materials-all.s3.ap-northeast-2.amazonaws.com/image/pandas/material_03_12.gif\" width=\"750\"></th>\n",
    "</tr>\n",
    "<tr>\n",
    "    <th>데이터프레임에서 인덱스 정보를 이용해 연속되지 않은 여러개의 행에 인덱싱</th>\n",
    "</tr>\n",
    "</table>"
   ]
  },
  {
   "cell_type": "markdown",
   "id": "e6861401-5a82-44e8-8616-15595c881999",
   "metadata": {},
   "source": [
    "**예제 3 : 데이터프레임에서 하나의 행에 인덱싱**"
   ]
  },
  {
   "cell_type": "code",
   "execution_count": null,
   "id": "1cf090a9-f121-4df7-b30f-50b7a7fa5081",
   "metadata": {},
   "outputs": [],
   "source": [
    "# 예제_3_데이터프레임에서_하나의_행에_인덱싱\n",
    "\n",
    "import pandas as pd\n",
    "\n",
    "score = pd.read_csv('https://tmn-bucket-materials-all.s3.ap-northeast-2.amazonaws.com/data/midterm_exam_result.csv')\n",
    "score.index = score['이름']\n",
    "score = score.iloc[:,1:]\n",
    "\n",
    "print('#'*30, f\"{'score':^15s}\" , '#' * 30, '\\n') # 출력되는 결과들을 분리해서 보여주기 위한 코드입니다.\n",
    "print(score)\n",
    "print('\\n','#'*30, \"{:^15s}\".format('score.loc[\"배지우\"]') , '#' * 30, '\\n') # 출력되는 결과들을 분리해서 보여주기 위한 코드입니다.\n",
    "print(score.loc[\"배지우\"])\n",
    "print('\\n','#'*30, \"{:^15s}\".format('score.loc[\"김다은\"]') , '#' * 30, '\\n') # 출력되는 결과들을 분리해서 보여주기 위한 코드입니다.\n",
    "print(score.loc[\"김다은\"])"
   ]
  },
  {
   "cell_type": "markdown",
   "id": "8b90c006-3696-4219-8655-e24962d6efa9",
   "metadata": {},
   "source": [
    "**예제 4 : 데이터프레임에서 연속된 여러개의 행에 인덱싱**"
   ]
  },
  {
   "cell_type": "code",
   "execution_count": null,
   "id": "69fa9445-50d7-490e-b1f2-be1fe73f4954",
   "metadata": {},
   "outputs": [],
   "source": [
    "# 예제_4_데이터프레임에서_연속된_여러개의_행에_인덱싱\n",
    "\n",
    "import pandas as pd\n",
    "\n",
    "score = pd.read_csv('https://tmn-bucket-materials-all.s3.ap-northeast-2.amazonaws.com/data/midterm_exam_result.csv')\n",
    "score.index = score['이름']\n",
    "score = score.iloc[:,1:]\n",
    "\n",
    "print('#'*30, f\"{'score':^15s}\" , '#' * 30, '\\n') # 출력되는 결과들을 분리해서 보여주기 위한 코드입니다.\n",
    "print(score)\n",
    "print('\\n','#'*30, \"{:^15s}\".format('score.loc[\"배지우\":\"한지훈\"]') , '#' * 30, '\\n') # 출력되는 결과들을 분리해서 보여주기 위한 코드입니다.\n",
    "print(score.loc[\"배지우\":\"한지훈\"])\n",
    "print('\\n','#'*30, \"{:^15s}\".format('score.loc[\"김다은\":\"최하은\"]') , '#' * 30, '\\n') # 출력되는 결과들을 분리해서 보여주기 위한 코드입니다.\n",
    "print(score.loc[\"이민준\":\"최하은\"])"
   ]
  },
  {
   "cell_type": "markdown",
   "id": "4b5a8b9e-c6a2-4494-aa43-785a186e1d67",
   "metadata": {},
   "source": [
    "**예제 5 : 데이터프레임에서 연속되지 않은 여러개의 행에 인덱싱**"
   ]
  },
  {
   "cell_type": "code",
   "execution_count": null,
   "id": "5a29664f-21b7-4c2c-942e-6f7bb27e406b",
   "metadata": {},
   "outputs": [],
   "source": [
    "# 예제_5_데이터프레임에서_연속되지_않은_여러개의_행에_인덱싱\n",
    "\n",
    "import pandas as pd\n",
    "\n",
    "score = pd.read_csv('https://tmn-bucket-materials-all.s3.ap-northeast-2.amazonaws.com/data/midterm_exam_result.csv')\n",
    "score.index = score['이름']\n",
    "score = score.iloc[:,1:]\n",
    "\n",
    "print('#'*30, f\"{'score':^15s}\" , '#' * 30, '\\n') # 출력되는 결과들을 분리해서 보여주기 위한 코드입니다.\n",
    "print(score)\n",
    "print('\\n','#'*30, \"{:^15s}\".format('score.loc[[\"배지우\",\"한지훈\",\"김지후\",\"이현우\"]]') , '#' * 30, '\\n') # 출력되는 결과들을 분리해서 보여주기 위한 코드입니다.\n",
    "print(score.loc[[\"배지우\",\"한지훈\",\"김지후\",\"이현우\"]])\n",
    "print('\\n','#'*30, \"{:^15s}\".format('score.loc[[\"이민준\",\"최하은\"]]') , '#' * 30, '\\n') # 출력되는 결과들을 분리해서 보여주기 위한 코드입니다.\n",
    "print(score.loc[[\"이민준\",\"최하은\"]])"
   ]
  },
  {
   "cell_type": "markdown",
   "id": "aa1639e0-004e-415c-b576-42a0d818c655",
   "metadata": {},
   "source": [
    "## 인덱스 정보를 이용해 데이터프레임의 열과 행 동시에 인덱싱하기\n",
    "\n",
    "데이터프레임의 열과 행을 동시에 인덱싱하는 방법은 여러가지가 있습니다.  \n",
    "이번에는 `loc`을 사용해 행과 열을 동시에 인덱싱하는 방법을 배워보겠습니다.\n",
    "\n",
    "1. 행과 열 동시에 인덱싱 하기  \n",
    "`DataFrame.loc[행 인덱싱, 열 인덱싱]` : `loc`을 사용해 행과 열을 동시에 인덱싱 할 수 있습니다.  \n",
    "`행 인덱싱`, `열 인덱싱`의 순서로 지정해 주면 됩니다.  \n",
    "행, 열을 인덱싱 할 때에는 위에서 배운 3가지의 인덱싱 방법을 모두 사용할 수 있습니다.  \n",
    "\n",
    "<table>\n",
    "<tr>\n",
    "    <th><img src=\"https://tmn-bucket-materials-all.s3.ap-northeast-2.amazonaws.com/image/pandas/material_03_13.gif\" width=\"750\"></th>\n",
    "</tr>\n",
    "<tr>\n",
    "    <th>데이터프레임에서 인덱스 정보, 열이름 정보를 이용해 행과 열 동시에 인덱싱</th>\n",
    "</tr>\n",
    "</table>\n",
    "\n",
    "2. 행, 열 전체를 선택하기  \n",
    "`DataFrame.loc[행 인덱싱,:]` : 선택된 행의 모든 열을 가져옵니다.  \n",
    "`DataFrame.loc[:,열 인덱싱]` : 선택된 열의 모든 행을 가져옵니다.  \n",
    "\n",
    "<table>\n",
    "<tr>\n",
    "    <th><img src=\"https://tmn-bucket-materials-all.s3.ap-northeast-2.amazonaws.com/image/pandas/material_03_14.gif\" width=\"750\"></th>\n",
    "</tr>\n",
    "<tr>\n",
    "    <th>데이터프레임에서 loc을 사용할 때에 행, 열 전체 선택하기</th>\n",
    "</tr>\n",
    "</table>\n",
    "\n"
   ]
  },
  {
   "cell_type": "markdown",
   "id": "6b6f7145-af36-444d-8a10-c59b8f45474b",
   "metadata": {},
   "source": [
    "**예제 6 : 데이터프레임에서 loc을 사용한 다양한 인덱싱**"
   ]
  },
  {
   "cell_type": "code",
   "execution_count": null,
   "id": "e0df2481-1679-42f8-95f6-0c4e4853ce7d",
   "metadata": {
    "tags": []
   },
   "outputs": [],
   "source": [
    "# 예제_6_데이터프레임에서_loc을_사용한_다양한_인덱싱\n",
    "\n",
    "import pandas as pd\n",
    "\n",
    "score = pd.read_csv('https://tmn-bucket-materials-all.s3.ap-northeast-2.amazonaws.com/data/midterm_exam_result.csv')\n",
    "score.index = score['이름']\n",
    "score = score.iloc[:,1:]\n",
    "\n",
    "print('#'*30, f\"{'score':^15s}\" , '#' * 30, '\\n') # 출력되는 결과들을 분리해서 보여주기 위한 코드입니다.\n",
    "print(score)\n",
    "print('\\n','#'*30, \"{:^15s}\".format('score.loc[\"배지우\",[\"국어\",\"영어\",\"프로그래밍\"]]') , '#' * 30, '\\n') # 출력되는 결과들을 분리해서 보여주기 위한 코드입니다.\n",
    "print(score.loc[\"배지우\",[\"국어\",\"영어\",\"프로그래밍\"]])\n",
    "print('\\n','#'*30, \"{:^15s}\".format('score.loc[[\"배지우\",\"이민준\",\"최하은\"],\"프로그래밍\"]') , '#' * 30, '\\n') # 출력되는 결과들을 분리해서 보여주기 위한 코드입니다.\n",
    "print(score.loc[[\"배지우\",\"이민준\",\"최하은\"],\"프로그래밍\"])\n",
    "print('\\n','#'*30, \"{:^15s}\".format('score.loc[[\"배지우\",\"이민준\",\"최하은\"],[\"프로그래밍\",\"국어\",\"수학\"]]') , '#' * 30, '\\n') # 출력되는 결과들을 분리해서 보여주기 위한 코드입니다.\n",
    "print(score.loc[[\"배지우\",\"이민준\",\"최하은\"],[\"프로그래밍\",\"국어\",\"수학\"]])\n",
    "print('\\n','#'*30, \"{:^15s}\".format('score.loc[[\"배지우\",\"이민준\",\"최하은\"],:]') , '#' * 30, '\\n') # 출력되는 결과들을 분리해서 보여주기 위한 코드입니다.\n",
    "print(score.loc[[\"배지우\",\"이민준\",\"최하은\"],:])\n",
    "print('\\n','#'*30, \"{:^15s}\".format('score.loc[:,[\"프로그래밍\",\"국어\",\"수학\"]]') , '#' * 30, '\\n') # 출력되는 결과들을 분리해서 보여주기 위한 코드입니다.\n",
    "print(score.loc[:,[\"프로그래밍\",\"국어\",\"수학\"]])\n",
    "print('\\n','#'*30, \"{:^15s}\".format('score.loc[:,:]') , '#' * 30, '\\n') # 출력되는 결과들을 분리해서 보여주기 위한 코드입니다.\n",
    "print(score.loc[:,:])"
   ]
  },
  {
   "cell_type": "markdown",
   "id": "2aa444d8-2058-4457-ba0a-9af691f472ad",
   "metadata": {},
   "source": [
    "<div style=\"padding: 15px; border: 5px solid transparent; border-color: transparent; margin-bottom: 20px; border-radius: 4px; color: #8a6d3b;  border-color: #faebcc;\">\n",
    "    <div style=\"font-weight: bold; font-size: 20px\">💯 연습문제를 풀어봅시다</div>\n",
    "\n",
    "</div>"
   ]
  },
  {
   "cell_type": "markdown",
   "id": "9ac34339-8c4c-4981-b1e5-d75e61c8ec1d",
   "metadata": {},
   "source": [
    "1. <a class=\"jcecodle-mk jcecodle-mk__problem-chip\" data-problem-id=\"ryIJK2tzdpY\" href='#jce-judge/open/ryIJK2tzdpY' target='_self'><span>판다스 기초 5 - 데이터프레임 열 이름으로 불러오기</span></a>\n",
    "\n",
    "2. <a class=\"jcecodle-mk jcecodle-mk__problem-chip\" data-problem-id=\"hyZz6FjltlQ\" href='#jce-judge/open/hyZz6FjltlQ' target='_self'><span>탑승객 수 불러오기</span></a>\n",
    "\n",
    "4. <a class=\"jcecodle-mk jcecodle-mk__problem-chip\" data-problem-id=\"R3AMh0eTzDA\" href='#jce-judge/open/R3AMh0eTzDA' target='_self'><span>판다스 기초 - 데이터프레임 열 인덱싱 (여러개)</span></a>\n",
    "\n",
    "5. <a class=\"jcecodle-mk jcecodle-mk__problem-chip\" data-problem-id=\"qSuptxQhUQ8\" href='#jce-judge/open/qSuptxQhUQ8' target='_self'><span>홀수열 불러오기</span></a>\n",
    "\n",
    "\n",
    "7. <a class=\"jcecodle-mk jcecodle-mk__problem-chip\" data-problem-id=\"NPfqVcJiU2s\" href='#jce-judge/open/NPfqVcJiU2s' target='_self'><span>판다스 기초 - 데이터 프레임 행 이름으로 불러오기</span></a>\n",
    "\n",
    "8. <a class=\"jcecodle-mk jcecodle-mk__problem-chip\" data-problem-id=\"XhmHxvwG71Y\" href='#jce-judge/open/XhmHxvwG71Y' target='_self'><span>데이터 프레임 행 이름으로 불러오기 (2)</span></a>\n",
    "\n",
    "9. <a class=\"jcecodle-mk jcecodle-mk__problem-chip\" data-problem-id=\"cesVayS2x70\" href='#jce-judge/open/cesVayS2x70' target='_self'><span>둘째부터 넷째까지</span></a>\n",
    "\n",
    "\n",
    "11. <a class=\"jcecodle-mk jcecodle-mk__problem-chip\" data-problem-id=\"V51LDQ08Vqk\" href='#jce-judge/open/V51LDQ08Vqk' target='_self'><span>판다스 기초 - 데이터프레임 2차원 인덱싱 (3)</span></a>\n",
    "\n",
    "\n",
    "13. <a class=\"jcecodle-mk jcecodle-mk__problem-chip\" data-problem-id=\"Sd1hbOkQ9BA\" href='#jce-judge/open/Sd1hbOkQ9BA' target='_self'><span>데이터 통계 정보 인덱싱</span></a>"
   ]
  },
  {
   "cell_type": "markdown",
   "id": "085db2c1-b8ae-49e5-8016-d5c457197a37",
   "metadata": {
    "tags": []
   },
   "source": [
    "<div style=\"padding: 15px; border: 5px solid transparent; border-color: transparent; margin-bottom: 20px; border-radius: 4px; color: #3c763d; border-color: #d6e9c6; font-weight: bold;\">\n",
    "<h3 style='font-weight: bold'>3. 데이터프레임(DataFrame) 위치 기반 인덱싱</h3>\n",
    "</div> "
   ]
  },
  {
   "cell_type": "markdown",
   "id": "7df3fea9-e661-4710-a7cf-6e46a0db233f",
   "metadata": {},
   "source": [
    "데이터프레임에서 특정 열과 행을 가져오기 위해 위치 기반의 인덱싱도 사용할 수 있습니다."
   ]
  },
  {
   "cell_type": "markdown",
   "id": "06305ef1-f7e6-4a79-9b5d-e23647eae876",
   "metadata": {},
   "source": [
    "## 위치 정보를 이용해 데이터프레임의 행 인덱싱하기\n",
    "\n",
    "데이터프레임의 행을 순서를 이용해 불러오기 위해서는 `iloc`을 이용해야 합니다.  \n",
    "`iloc`은 interger(정수로 된)-location(위치)를 의미합니다.  \n",
    "\n",
    "> **⚠️ 주의(WARNING):**\n",
    ">\n",
    "> 0부터 시작된다는 것을 기억합니다!\n",
    "\n",
    "1. 하나의 행 인덱싱하기  \n",
    "`DataFrame.iloc[n]` : n+1 번째 행을 Series로 반환  \n",
    "\n",
    "<table>\n",
    "<tr>\n",
    "    <th><img src=\"https://tmn-bucket-materials-all.s3.ap-northeast-2.amazonaws.com/image/pandas/material_03_18.gif\" width=\"750\"></th>\n",
    "</tr>\n",
    "<tr>\n",
    "    <th>데이터프레임에서 위치정보를 이용해 하나의 행에 인덱싱</th>\n",
    "</tr>\n",
    "</table>\n",
    "\n",
    "2. 연속된 여러개의 행 인덱싱하기  \n",
    "`DataFrame.iloc[a:b]` : a+1 번째 ~ b 번째 행을 DataFrame으로 반환  \n",
    "\n",
    "<table>\n",
    "<tr>\n",
    "    <th><img src=\"https://tmn-bucket-materials-all.s3.ap-northeast-2.amazonaws.com/image/pandas/material_03_19.gif\" width=\"750\"></th>\n",
    "</tr>\n",
    "<tr>\n",
    "    <th>데이터프레임에서 위치정보를 이용해 연속된 여러개의 행에 인덱싱</th>\n",
    "</tr>\n",
    "</table>\n",
    "\n",
    "3. 연속되지 않은 여러개의 행 인덱싱하기  \n",
    "`DataFrame.iloc[[a, b]]` : a+1 번째, b+1 번째 행을 DataFrame으로 반환  \n",
    "\n",
    "<table>\n",
    "<tr>\n",
    "    <th><img src=\"https://tmn-bucket-materials-all.s3.ap-northeast-2.amazonaws.com/image/pandas/material_03_20.gif\" width=\"750\"></th>\n",
    "</tr>\n",
    "<tr>\n",
    "    <th>데이터프레임에서 위치정보를 이용해 연속되지 않은 여러개의 행에 인덱싱</th>\n",
    "</tr>\n",
    "</table>"
   ]
  },
  {
   "cell_type": "markdown",
   "id": "92731e59-ee99-4ae0-8396-4f0596f30733",
   "metadata": {},
   "source": [
    "**예제 1 : 데이터프레임에서 하나의 행에 인덱싱**"
   ]
  },
  {
   "cell_type": "code",
   "execution_count": null,
   "id": "4b349f18-a1b3-4f4f-a241-d2cbad54711c",
   "metadata": {},
   "outputs": [],
   "source": [
    "# 예제_1_데이터프레임에서_하나의_행에_인덱싱\n",
    "\n",
    "import pandas as pd\n",
    "\n",
    "score = pd.read_csv('https://tmn-bucket-materials-all.s3.ap-northeast-2.amazonaws.com/data/midterm_exam_result.csv')\n",
    "score.index = score['이름']\n",
    "score = score.iloc[:,1:]\n",
    "\n",
    "print('#'*30, f\"{'score':^15s}\" , '#' * 30, '\\n') # 출력되는 결과들을 분리해서 보여주기 위한 코드입니다.\n",
    "print(score)\n",
    "print('\\n','#'*30, \"{:^15s}\".format('score.iloc[5]') , '#' * 30, '\\n') # 출력되는 결과들을 분리해서 보여주기 위한 코드입니다.\n",
    "print(score.iloc[5])\n",
    "print('\\n','#'*30, \"{:^15s}\".format('score.iloc[10]') , '#' * 30, '\\n') # 출력되는 결과들을 분리해서 보여주기 위한 코드입니다.\n",
    "print(score.iloc[10])"
   ]
  },
  {
   "cell_type": "markdown",
   "id": "9b4698a9-967e-468b-b947-7273a1eac177",
   "metadata": {},
   "source": [
    "**예제 2 : 데이터프레임에서 연속된 여러개의 싱**"
   ]
  },
  {
   "cell_type": "code",
   "execution_count": null,
   "id": "23267adf-2624-4f8f-a6f1-5279c2fe93bb",
   "metadata": {},
   "outputs": [],
   "source": [
    "# 예제_2_데이터프레임에서_연속된_여러개의_행에_인덱싱\n",
    "\n",
    "import pandas as pd\n",
    "\n",
    "score = pd.read_csv('https://tmn-bucket-materials-all.s3.ap-northeast-2.amazonaws.com/data/midterm_exam_result.csv')\n",
    "score.index = score['이름']\n",
    "score = score.iloc[:,1:]\n",
    "\n",
    "print('#'*30, f\"{'score':^15s}\" , '#' * 30, '\\n') # 출력되는 결과들을 분리해서 보여주기 위한 코드입니다.\n",
    "print(score)\n",
    "print('\\n','#'*30, \"{:^15s}\".format('score.iloc[5:10]') , '#' * 30, '\\n') # 출력되는 결과들을 분리해서 보여주기 위한 코드입니다.\n",
    "print(score.iloc[5:10])\n",
    "print('\\n','#'*30, \"{:^15s}\".format('score.iloc[13:20]') , '#' * 30, '\\n') # 출력되는 결과들을 분리해서 보여주기 위한 코드입니다.\n",
    "print(score.iloc[13:20])"
   ]
  },
  {
   "cell_type": "markdown",
   "id": "5b5e5d4b-ea8a-4cdb-bc88-1a760dc1364d",
   "metadata": {},
   "source": [
    "**예제 3 : 데이터프레임에서 연속되지 않은 여러개의 싱**"
   ]
  },
  {
   "cell_type": "code",
   "execution_count": null,
   "id": "030f6ee7-0af8-4594-bf2d-7525f71cf36a",
   "metadata": {},
   "outputs": [],
   "source": [
    "# 예제_3_데이터프레임에서_연속되지_않은_여러개의_행에_인덱싱\n",
    "\n",
    "import pandas as pd\n",
    "\n",
    "score = pd.read_csv('https://tmn-bucket-materials-all.s3.ap-northeast-2.amazonaws.com/data/midterm_exam_result.csv')\n",
    "score.index = score['이름']\n",
    "score = score.iloc[:,1:]\n",
    "\n",
    "print('#'*30, f\"{'score':^15s}\" , '#' * 30, '\\n') # 출력되는 결과들을 분리해서 보여주기 위한 코드입니다.\n",
    "print(score)\n",
    "print('\\n','#'*30, \"{:^15s}\".format('score.iloc[[5,6,10,12]]') , '#' * 30, '\\n') # 출력되는 결과들을 분리해서 보여주기 위한 코드입니다.\n",
    "print(score.iloc[[5,6,10,12]])\n",
    "print('\\n','#'*30, \"{:^15s}\".format('score.iloc[[1,2,4,20,27]]') , '#' * 30, '\\n') # 출력되는 결과들을 분리해서 보여주기 위한 코드입니다.\n",
    "print(score.iloc[[1,2,4,20,27]])"
   ]
  },
  {
   "cell_type": "markdown",
   "id": "47a685ab-cce7-4bc9-8522-7790742b12dd",
   "metadata": {},
   "source": [
    "## 위치 정보를 이용해 데이터프레임의 행과 열 동시에 인덱싱하기\n",
    "\n",
    "데이터프레임에서 위치 정보를 사용해 열만 인덱싱할 수는 없습니다.  \n",
    "따라서 행과 열을 동시에 인덱싱하는 방법을 사용해야 합니다.\n",
    "\n",
    "1. 행과 열 동시에 인덱싱 하기  \n",
    "`DataFrame.iloc[행 인덱싱, 열 인덱싱]` : `iloc`을 사용해 행과 열을 동시에 인덱싱 할 수 있습니다.  \n",
    "`행 인덱싱`, `열 인덱싱`의 순서로 지정해 주면 됩니다.  \n",
    "행, 열을 인덱싱 할 때에는 위에서 배운 3가지의 인덱싱 방법을 모두 사용할 수 있습니다.  \n",
    "\n",
    "<table>\n",
    "<tr>\n",
    "    <th><img src=\"https://tmn-bucket-materials-all.s3.ap-northeast-2.amazonaws.com/image/pandas/material_03_21.gif\" width=\"750\"></th>\n",
    "</tr>\n",
    "<tr>\n",
    "    <th>데이터프레임에서 위치정보를 이용해 행과 열 동시에 인덱싱</th>\n",
    "</tr>\n",
    "</table>\n",
    "\n",
    "2. 행, 열 전체를 선택하기  \n",
    "`DataFrame.iloc[행 인덱싱,:]` : 선택된 행의 모든 열을 가져옵니다.  \n",
    "`DataFrame.iloc[:,열 인덱싱]` : 선택된 열의 모든 행을 가져옵니다.  \n",
    "\n",
    "<table>\n",
    "<tr>\n",
    "    <th><img src=\"https://tmn-bucket-materials-all.s3.ap-northeast-2.amazonaws.com/image/pandas/material_03_22.gif\" width=\"750\"></th>\n",
    "</tr>\n",
    "<tr>\n",
    "    <th>데이터프레임에서 loc을 사용할 때에 행, 열 전체 선택하기</th>\n",
    "</tr>\n",
    "</table>\n",
    "\n"
   ]
  },
  {
   "cell_type": "markdown",
   "id": "5e294b5e-4d35-49c2-928d-e66b1c7f0992",
   "metadata": {},
   "source": [
    "**예제 4 : 데이터프레임에서 iloc을 사용한 다양한 싱**"
   ]
  },
  {
   "cell_type": "code",
   "execution_count": null,
   "id": "1d8ce93f-9346-41cf-a292-af668e756cf7",
   "metadata": {},
   "outputs": [],
   "source": [
    "# 예제_4_데이터프레임에서_iloc을_사용한_다양한_인덱싱\n",
    "\n",
    "import pandas as pd\n",
    "\n",
    "score = pd.read_csv('https://tmn-bucket-materials-all.s3.ap-northeast-2.amazonaws.com/data/midterm_exam_result.csv')\n",
    "score.index = score['이름']\n",
    "score = score.iloc[:,1:]\n",
    "\n",
    "print('#'*30, f\"{'score':^15s}\" , '#' * 30, '\\n') # 출력되는 결과들을 분리해서 보여주기 위한 코드입니다.\n",
    "print(score)\n",
    "print('\\n','#'*30, \"{:^15s}\".format('score.iloc[3,[1,3,4]]') , '#' * 30, '\\n') # 출력되는 결과들을 분리해서 보여주기 위한 코드입니다.\n",
    "print(score.iloc[3,[1,3,4]])\n",
    "print('\\n','#'*30, \"{:^15s}\".format('score.iloc[[3,5,8],3]') , '#' * 30, '\\n') # 출력되는 결과들을 분리해서 보여주기 위한 코드입니다.\n",
    "print(score.iloc[[3,5,8],3])\n",
    "print('\\n','#'*30, \"{:^15s}\".format('score.iloc[[3,5,8],[1,3,4]]') , '#' * 30, '\\n') # 출력되는 결과들을 분리해서 보여주기 위한 코드입니다.\n",
    "print(score.iloc[[3,5,8],[1,3,4]])\n",
    "print('\\n','#'*30, \"{:^15s}\".format('score.iloc[[3,5,8],:]') , '#' * 30, '\\n') # 출력되는 결과들을 분리해서 보여주기 위한 코드입니다.\n",
    "print(score.iloc[[3,5,8],:])\n",
    "print('\\n','#'*30, \"{:^15s}\".format('score.iloc[:,[1,3,4]]') , '#' * 30, '\\n') # 출력되는 결과들을 분리해서 보여주기 위한 코드입니다.\n",
    "print(score.iloc[:,[1,3,4]])\n",
    "print('\\n','#'*30, \"{:^15s}\".format('score.iloc[:,:]') , '#' * 30, '\\n') # 출력되는 결과들을 분리해서 보여주기 위한 코드입니다.\n",
    "print(score.iloc[:,:])"
   ]
  },
  {
   "cell_type": "markdown",
   "id": "fc78e249-d21d-400d-b28a-c7d8e2bdfa4e",
   "metadata": {},
   "source": [
    "<div style=\"padding: 15px; border: 5px solid transparent; border-color: transparent; margin-bottom: 20px; border-radius: 4px; color: #8a6d3b;  border-color: #faebcc;\">\n",
    "    <div style=\"font-weight: bold; font-size: 20px\">💯 연습문제를 풀어봅시다</div>\n",
    "\n",
    "</div>"
   ]
  },
  {
   "cell_type": "markdown",
   "id": "077b2ee4-dd3f-4747-91cb-abef8033741c",
   "metadata": {},
   "source": [
    "1. <a class=\"jcecodle-mk jcecodle-mk__problem-chip\" data-problem-id=\"xV7nHKLx08A\" href='#jce-judge/open/xV7nHKLx08A' target='_self'><span>판다스 기초 6 - 인덱스로 행 불러오기</span></a>\n",
    "\n",
    "2. <a class=\"jcecodle-mk jcecodle-mk__problem-chip\" data-problem-id=\"Q0bXumIP900\" href='#jce-judge/open/Q0bXumIP900' target='_self'><span>인덱스로 행 불러오기 (2)</span></a>\n",
    "\n",
    "\n",
    "5. <a class=\"jcecodle-mk jcecodle-mk__problem-chip\" data-problem-id=\"jwp3nh6t6W4\" href='#jce-judge/open/jwp3nh6t6W4' target='_self'><span>거꾸로 불러오기</span></a>\n",
    "\n",
    "\n",
    "7. <a class=\"jcecodle-mk jcecodle-mk__problem-chip\" data-problem-id=\"NB1fXpsBSPM\" href='#jce-judge/open/NB1fXpsBSPM' target='_self'><span>300행 3열</span></a>\n",
    "\n",
    "\n",
    "8. <a class=\"jcecodle-mk jcecodle-mk__problem-chip\" data-problem-id=\"nITxi677FYQ\" href='#jce-judge/open/nITxi677FYQ' target='_self'><span>마지막과 첫번째 행</span></a>\n",
    "\n",
    "\n",
    "6. <a class=\"jcecodle-mk jcecodle-mk__problem-chip\" data-problem-id=\"2wUqFhadkik\" href='#jce-judge/open/2wUqFhadkik' target='_self'><span>판다스 기초 - 데이터프레임 2차원 인덱싱 (2)</span></a>\n",
    "\n"
   ]
  }
 ],
 "metadata": {
  "kernelspec": {
   "display_name": "Python 3 (ipykernel)",
   "language": "python",
   "name": "python3"
  },
  "language_info": {
   "codemirror_mode": {
    "name": "ipython",
    "version": 3
   },
   "file_extension": ".py",
   "mimetype": "text/x-python",
   "name": "python",
   "nbconvert_exporter": "python",
   "pygments_lexer": "ipython3",
   "version": "3.10.12"
  }
 },
 "nbformat": 4,
 "nbformat_minor": 5
}

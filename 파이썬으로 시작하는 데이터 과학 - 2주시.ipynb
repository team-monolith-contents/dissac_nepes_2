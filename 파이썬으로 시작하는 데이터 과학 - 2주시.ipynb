{
 "cells": [
  {
   "cell_type": "markdown",
   "id": "ecd78426-2260-4c15-9c72-c84484fa1f40",
   "metadata": {},
   "source": [
    "<div style=\"padding: 15px; border: 5px solid transparent; border-color: transparent; margin-bottom: 20px; border-radius: 4px; color: #3c763d; background-color: #dff0d8; border-color: #d6e9c6; font-weight: bold;\">\n",
    "    <br><br>\n",
    "    <div style=\"font-weight: bold; font-size: 40px\">파이썬으로 시작하는 데이터 과학</div>\n",
    "    <div style=\"font-weight: bold; font-size: 20px\">(2) 파이썬 해커톤</div>\n",
    "    <hr style=\"width:80%;text-align:left;margin-left:0;border:0.5px solid green\">\n",
    "    <br>\n",
    "    &#x2022; 기본 입출력부터 모듈의 사용까지 파이썬 기초 문법을 이해할 수 있다. <br>\n",
    "    &#x2022; 파이썬 기초 문법을 활용하여 다양한 파이썬 문제를 해결할 수 있다.<br>\n",
    "</div>"
   ]
  },
  {
   "cell_type": "markdown",
   "id": "971aeea0-55c0-4536-8aeb-979941d00b5d",
   "metadata": {
    "tags": []
   },
   "source": [
    "<div style=\"padding: 15px; border: 5px solid transparent; border-color: transparent; margin-bottom: 20px; border-radius: 4px; color: #3c763d; border-color: #d6e9c6; font-weight: bold;\">\n",
    "<h2 style='font-weight: bold'>1. 기본 입출력과 변수</h2>\n",
    "</div> "
   ]
  },
  {
   "cell_type": "markdown",
   "id": "bb22c8ed-9169-474f-b3bc-1e50a5a79e4e",
   "metadata": {},
   "source": [
    "<div style=\"padding: 15px; border: 5px solid transparent; border-color: transparent; margin-bottom: 20px; border-radius: 4px; color: #8a6d3b;  border-color: #faebcc;\">\n",
    "    <div style=\"font-weight: bold; font-size: 20px\">💯 연습문제를 풀어봅시다</div>\n",
    "    <br>\n",
    "   <a class=\"jcecodle-mk jcecodle-mk__problem-chip\" data-problem-id=\"183\" href='#jce-judge/open/183' target='_self'><span>입력과 출력 4</span></a>\n",
    "    <a class=\"jcecodle-mk jcecodle-mk__problem-chip\" data-problem-id=\"188\" href='#jce-judge/open/188' target='_self'><span>입력과 출력 9</span></a>\n",
    "<a class=\"jcecodle-mk jcecodle-mk__problem-chip\" data-problem-id=\"189\" href='#jce-judge/open/189' target='_self'><span>입력과 출력 10</span></a>\n",
    "    <a class=\"jcecodle-mk jcecodle-mk__problem-chip\" data-problem-id=\"yEygssGfFLg\" href='#jce-judge/open/yEygssGfFLg' target='_self'><span>큰 따옴표를 포함한 문자열 출력</span></a>\n",
    "    <a class=\"jcecodle-mk jcecodle-mk__problem-chip\" data-problem-id=\"138\" href='#jce-judge/open/138' target='_self'><span>주민번호 분리하기</span></a>\n",
    "    <a class=\"jcecodle-mk jcecodle-mk__problem-chip\" data-problem-id=\"kNlmiYfjjvA\" href='#jce-judge/open/kNlmiYfjjvA' target='_self'><span>문자열 n번 출력하기</span></a>\n",
    "    <a class=\"jcecodle-mk jcecodle-mk__problem-chip\" data-problem-id=\"145\" href='#jce-judge/open/145' target='_self'><span>덧셈1</span></a>\n",
    "    <a class=\"jcecodle-mk jcecodle-mk__problem-chip\" data-problem-id=\"G9z1Cj-fs24\" href='#jce-judge/open/G9z1Cj-fs24' target='_self'><span>할인 비율 알아보기</span></a>\n",
    "</div>"
   ]
  },
  {
   "cell_type": "markdown",
   "id": "724a7348-21d8-4b28-8016-7d55128a51a3",
   "metadata": {
    "tags": []
   },
   "source": [
    "<div style=\"padding: 15px; border: 5px solid transparent; border-color: transparent; margin-bottom: 20px; border-radius: 4px; color: #3c763d; border-color: #d6e9c6; font-weight: bold;\">\n",
    "<h2 style='font-weight: bold'>2. 리스트</h2>\n",
    "</div> "
   ]
  },
  {
   "cell_type": "markdown",
   "id": "2aa444d8-2058-4457-ba0a-9af691f472ad",
   "metadata": {},
   "source": [
    "<div style=\"padding: 15px; border: 5px solid transparent; border-color: transparent; margin-bottom: 20px; border-radius: 4px; color: #8a6d3b;  border-color: #faebcc;\">\n",
    "    <div style=\"font-weight: bold; font-size: 20px\">💯 연습문제를 풀어봅시다</div>\n",
    "    <br>\n",
    "   <a class=\"jcecodle-mk jcecodle-mk__problem-chip\" data-problem-id=\"209\" href='#jce-judge/open/209' target='_self'><span>List 기본 문제 1</span></a>\n",
    "<a class=\"jcecodle-mk jcecodle-mk__problem-chip\" data-problem-id=\"xyJ3ZdccCDQ\" href='#jce-judge/open/xyJ3ZdccCDQ' target='_self'><span>리스트 요소</span></a>\n",
    "<a class=\"jcecodle-mk jcecodle-mk__problem-chip\" data-problem-id=\"FyJTmZIYRWI\" href='#jce-judge/open/FyJTmZIYRWI' target='_self'><span>리스트 뒤집기</span></a>\n",
    "<a class=\"jcecodle-mk jcecodle-mk__problem-chip\" data-problem-id=\"nfLXO300pZk\" href='#jce-judge/open/nfLXO300pZk' target='_self'><span>리스트 값 수정1</span></a>\n",
    "<a class=\"jcecodle-mk jcecodle-mk__problem-chip\" data-problem-id=\"EU_b0eQHdI4\" href='#jce-judge/open/EU_b0eQHdI4' target='_self'><span>커트라인 점수1</span></a>\n",
    "<a class=\"jcecodle-mk jcecodle-mk__problem-chip\" data-problem-id=\"Xh2anPOfX_A\" href='#jce-judge/open/Xh2anPOfX_A' target='_self'><span>세트메뉴1</span></a>\n",
    "<a class=\"jcecodle-mk jcecodle-mk__problem-chip\" data-problem-id=\"nDjxCMg67gY\" href='#jce-judge/open/nDjxCMg67gY' target='_self'><span>평균과 중앙값</span></a>\n",
    "<a class=\"jcecodle-mk jcecodle-mk__problem-chip\" data-problem-id=\"UpnJPJ2e0iw\" href='#jce-judge/open/UpnJPJ2e0iw' target='_self'><span>이중 정렬1</span></a>\n",
    "</div>"
   ]
  },
  {
   "cell_type": "markdown",
   "id": "085db2c1-b8ae-49e5-8016-d5c457197a37",
   "metadata": {
    "tags": []
   },
   "source": [
    "<div style=\"padding: 15px; border: 5px solid transparent; border-color: transparent; margin-bottom: 20px; border-radius: 4px; color: #3c763d; border-color: #d6e9c6; font-weight: bold;\">\n",
    "<h2 style='font-weight: bold'>3. 조건문</h2>\n",
    "</div> "
   ]
  },
  {
   "cell_type": "markdown",
   "id": "419f8978-96a1-469e-8da5-3990e5517775",
   "metadata": {},
   "source": [
    "<div style=\"padding: 15px; border: 5px solid transparent; border-color: transparent; margin-bottom: 20px; border-radius: 4px; color: #8a6d3b;  border-color: #faebcc;\">\n",
    "    <div style=\"font-weight: bold; font-size: 20px\">💯 연습문제를 풀어봅시다</div>\n",
    "    <br>\n",
    " <a class=\"jcecodle-mk jcecodle-mk__problem-chip\" data-problem-id=\"LON4taNs-_g\" href='#jce-judge/open/LON4taNs-_g' target='_self'><span>절댓값 찾기1</span></a>\n",
    "<a class=\"jcecodle-mk jcecodle-mk__problem-chip\" data-problem-id=\"pIFJ5MdnuSA\" href='#jce-judge/open/pIFJ5MdnuSA' target='_self'><span>간단한 조건문</span></a>\n",
    "<a class=\"jcecodle-mk jcecodle-mk__problem-chip\" data-problem-id=\"apet6B_EgNY\" href='#jce-judge/open/apet6B_EgNY' target='_self'><span>성인여부와 성별</span></a>\n",
    "<a class=\"jcecodle-mk jcecodle-mk__problem-chip\" data-problem-id=\"uhtSUIVNBXY\" href='#jce-judge/open/uhtSUIVNBXY' target='_self'><span>투자 경고 판단하기</span></a>\n",
    "<a class=\"jcecodle-mk jcecodle-mk__problem-chip\" data-problem-id=\"Gv0aJ1qKcW0\" href='#jce-judge/open/Gv0aJ1qKcW0' target='_self'><span>윤년판별기</span></a>\n",
    "<a class=\"jcecodle-mk jcecodle-mk__problem-chip\" data-problem-id=\"yri10BeTBaw\" href='#jce-judge/open/yri10BeTBaw' target='_self'><span>주사위 게임 상금  </span></a>\n",
    "<a class=\"jcecodle-mk jcecodle-mk__problem-chip\" data-problem-id=\"44XnFT9uMSg\" href='#jce-judge/open/44XnFT9uMSg' target='_self'><span>삼각형 종류   </span></a>\n",
    "</div>"
   ]
  },
  {
   "cell_type": "markdown",
   "id": "3b60b2b1-bb1c-4bb1-953b-ad2c120a5823",
   "metadata": {
    "tags": []
   },
   "source": [
    "<div style=\"padding: 15px; border: 5px solid transparent; border-color: transparent; margin-bottom: 20px; border-radius: 4px; color: #3c763d; border-color: #d6e9c6; font-weight: bold;\">\n",
    "<h2 style='font-weight: bold'>4. 반복문</h2>\n",
    "</div> "
   ]
  },
  {
   "cell_type": "markdown",
   "id": "b7018c5f-b459-4230-9613-68ce04cec437",
   "metadata": {},
   "source": [
    "<div style=\"padding: 15px; border: 5px solid transparent; border-color: transparent; margin-bottom: 20px; border-radius: 4px; color: #8a6d3b;  border-color: #faebcc;\">\n",
    "    <div style=\"font-weight: bold; font-size: 20px\">💯 연습문제를 풀어봅시다</div>\n",
    "    <br>\n",
    "<a class=\"jcecodle-mk jcecodle-mk__problem-chip\" data-problem-id=\"135\" href='#jce-judge/open/135' target='_self'><span>0이 입력될때까지 출력하기</span></a>\n",
    "<a class=\"jcecodle-mk jcecodle-mk__problem-chip\" data-problem-id=\"148\" href='#jce-judge/open/148' target='_self'><span>알파벳 출력하기2</span></a>\n",
    "<a class=\"jcecodle-mk jcecodle-mk__problem-chip\" data-problem-id=\"W7WDf2X5Dvs\" href='#jce-judge/open/W7WDf2X5Dvs' target='_self'><span>홀수와 짝수1</span></a>\n",
    "<a class=\"jcecodle-mk jcecodle-mk__problem-chip\" data-problem-id=\"eL41en1SNus\" href='#jce-judge/open/eL41en1SNus' target='_self'><span>온점의 개수</span></a>\n",
    "<a class=\"jcecodle-mk jcecodle-mk__problem-chip\" data-problem-id=\"KcDVh1s9VRw\" href='#jce-judge/open/KcDVh1s9VRw' target='_self'><span>자릿수 더하기</span></a>\n",
    "<a class=\"jcecodle-mk jcecodle-mk__problem-chip\" data-problem-id=\"UvMluh_PqFI\" href='#jce-judge/open/UvMluh_PqFI' target='_self'><span>강아지 찾기</span></a>\n",
    "<a class=\"jcecodle-mk jcecodle-mk__problem-chip\" data-problem-id=\"os0B-4rWSaw\" href='#jce-judge/open/os0B-4rWSaw' target='_self'><span>소수 구하기</span></a>\n",
    "<a class=\"jcecodle-mk jcecodle-mk__problem-chip\" data-problem-id=\"e2j3X3Gq4mo\" href='#jce-judge/open/e2j3X3Gq4mo' target='_self'><span>대칭</span></a>\n",
    "<a class=\"jcecodle-mk jcecodle-mk__problem-chip\" data-problem-id=\"2F3_H6qZUL8\" href='#jce-judge/open/2F3_H6qZUL8' target='_self'><span>패턴 출력하기1</span></a>\n",
    "<a class=\"jcecodle-mk jcecodle-mk__problem-chip\" data-problem-id=\"OuA-0cHsQoM\" href='#jce-judge/open/OuA-0cHsQoM' target='_self'><span>삼각형 출력하기1</span></a>\n",
    "<a class=\"jcecodle-mk jcecodle-mk__problem-chip\" data-problem-id=\"45I29Ssuo1c\" href='#jce-judge/open/45I29Ssuo1c' target='_self'><span>삼각형 출력하기2</span></a>\n",
    "</div>"
   ]
  },
  {
   "cell_type": "markdown",
   "id": "8db07426-16cb-481a-aad3-cf6da05d80a1",
   "metadata": {
    "tags": []
   },
   "source": [
    "<div style=\"padding: 15px; border: 5px solid transparent; border-color: transparent; margin-bottom: 20px; border-radius: 4px; color: #3c763d; border-color: #d6e9c6; font-weight: bold;\">\n",
    "<h2 style='font-weight: bold'>5. 함수</h2>\n",
    "</div> "
   ]
  },
  {
   "cell_type": "markdown",
   "id": "8a0478f7-dff4-4de5-97c7-1075b1484729",
   "metadata": {},
   "source": [
    "<div style=\"padding: 15px; border: 5px solid transparent; border-color: transparent; margin-bottom: 20px; border-radius: 4px; color: #8a6d3b;  border-color: #faebcc;\">\n",
    "    <div style=\"font-weight: bold; font-size: 20px\">💯 연습문제를 풀어봅시다</div>\n",
    "    <br>\n",
    "<a class=\"jcecodle-mk jcecodle-mk__problem-chip\" data-problem-id=\"JTphmxt7byE\" href='#jce-judge/open/JTphmxt7byE' target='_self'><span>최댓값 함수 만들기</span></a>\n",
    "<a class=\"jcecodle-mk jcecodle-mk__problem-chip\" data-problem-id=\"oxuTmiMIc8Y\" href='#jce-judge/open/oxuTmiMIc8Y' target='_self'><span>제곱의 차 구하는 함수 만들기</span></a>\n",
    "<a class=\"jcecodle-mk jcecodle-mk__problem-chip\" data-problem-id=\"zc9UnkgcyJY\" href='#jce-judge/open/zc9UnkgcyJY' target='_self'><span>swap(함수)</span></a>\n",
    "<a class=\"jcecodle-mk jcecodle-mk__problem-chip\" data-problem-id=\"3AM8NI5Z7-U\" href='#jce-judge/open/3AM8NI5Z7-U' target='_self'><span>값 찾기(함수)_빈칸</span></a>\n",
    "<a class=\"jcecodle-mk jcecodle-mk__problem-chip\" data-problem-id=\"1_aprueIsvw\" href='#jce-judge/open/1_aprueIsvw' target='_self'><span>리스트 요소 바꾸기(함수)</span></a>\n",
    "</div>"
   ]
  },
  {
   "cell_type": "markdown",
   "id": "dcd52ba8-5ae2-4681-8441-894af3ed045a",
   "metadata": {
    "tags": []
   },
   "source": [
    "<div style=\"padding: 15px; border: 5px solid transparent; border-color: transparent; margin-bottom: 20px; border-radius: 4px; color: #3c763d; border-color: #d6e9c6; font-weight: bold;\">\n",
    "<h2 style='font-weight: bold'>6. 모듈</h2>\n",
    "</div> "
   ]
  },
  {
   "cell_type": "markdown",
   "id": "fc78e249-d21d-400d-b28a-c7d8e2bdfa4e",
   "metadata": {},
   "source": [
    "<div style=\"padding: 15px; border: 5px solid transparent; border-color: transparent; margin-bottom: 20px; border-radius: 4px; color: #8a6d3b;  border-color: #faebcc;\">\n",
    "    <div style=\"font-weight: bold; font-size: 20px\">💯 연습문제를 풀어봅시다</div>\n",
    "    <br>\n",
    "  <a class=\"jcecodle-mk jcecodle-mk__problem-chip\" data-problem-id=\"ERQ39M8tZes\" href='#jce-judge/open/ERQ39M8tZes' target='_self'><span>파이 출력하기_빈칸</span></a>\n",
    "<a class=\"jcecodle-mk jcecodle-mk__problem-chip\" data-problem-id=\"sORBgEZdDl8\" href='#jce-judge/open/sORBgEZdDl8' target='_self'><span>거듭제곱1_빈칸</span></a>\n",
    "<a class=\"jcecodle-mk jcecodle-mk__problem-chip\" data-problem-id=\"gua8tg-N91w\" href='#jce-judge/open/gua8tg-N91w' target='_self'><span>정삼각형 높이_빈칸</span></a>\n",
    "<a class=\"jcecodle-mk jcecodle-mk__problem-chip\" data-problem-id=\"oV1U1FaZnVg\" href='#jce-judge/open/oV1U1FaZnVg' target='_self'><span>미션: 레드팀vs블루팀(3)</span></a>\n",
    "\n",
    "</div>"
   ]
  }
 ],
 "metadata": {
  "kernelspec": {
   "display_name": "Python 3 (ipykernel)",
   "language": "python",
   "name": "python3"
  },
  "language_info": {
   "codemirror_mode": {
    "name": "ipython",
    "version": 3
   },
   "file_extension": ".py",
   "mimetype": "text/x-python",
   "name": "python",
   "nbconvert_exporter": "python",
   "pygments_lexer": "ipython3",
   "version": "3.10.12"
  }
 },
 "nbformat": 4,
 "nbformat_minor": 5
}

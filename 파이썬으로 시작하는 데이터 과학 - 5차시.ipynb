{
 "cells": [
  {
   "cell_type": "markdown",
   "id": "ecd78426-2260-4c15-9c72-c84484fa1f40",
   "metadata": {},
   "source": [
    "<div style=\"padding: 15px; border: 5px solid transparent; border-color: transparent; margin-bottom: 20px; border-radius: 4px; color: #3c763d; background-color: #dff0d8; border-color: #d6e9c6; font-weight: bold;\">\n",
    "    <br><br>\n",
    "    <div style=\"font-weight: bold; font-size: 40px\">파이썬으로 시작하는 데이터 과학</div>\n",
    "    <div style=\"font-weight: bold; font-size: 20px\">(5) 데이터 시각화의 목적과 다양한 그래프</div>\n",
    "    <hr style=\"width:80%;text-align:left;margin-left:0;border:0.5px solid green\">\n",
    "    <br>\n",
    "    &#x2022; 데이터 시각화의 목적을 이해할 수 있다. <br>\n",
    "    &#x2022; 데이터를 시각화하는 다양한 방법들을 알 수 있다. <br>\n",
    "    &#x2022; 데이터를 활용하고자 하는 목적에 맞게 데이터 시각화 방법을 선택할 수 있다.<br>\n",
    "    &#x2022; 꺾은선 그래프 한 개 혹은 여러 개를 그릴 수 있다. <br>\n",
    "    &#x2022; 산점도 한 개 혹은 여러 개를 그릴 수 있다. <br>\n",
    "</div>"
   ]
  },
  {
   "cell_type": "markdown",
   "id": "971aeea0-55c0-4536-8aeb-979941d00b5d",
   "metadata": {
    "tags": []
   },
   "source": [
    "<div style=\"padding: 15px; border: 5px solid transparent; border-color: transparent; margin-bottom: 20px; border-radius: 4px; color: #3c763d; border-color: #d6e9c6; font-weight: bold;\">\n",
    "<h2 style='font-weight: bold'>1. 데이터 시각화의 목적</h2>\n",
    "</div> "
   ]
  },
  {
   "cell_type": "markdown",
   "id": "d2452df7-ba7c-499d-83b3-9ffc9f1e6edd",
   "metadata": {},
   "source": [
    "### **데이터 시각화란?**  \n",
    "데이터 시각화는 수치나 통계적인 정보를 시각적인 그래프, 도표, 차트 등의 형태로 표현하는 과정입니다.   \n",
    "데이터 시각화의 주된 목적은 아래의 4가지가 있습니다.\n",
    "\n",
    "<br>\n",
    "\n",
    "**1. 데이터 이해**  \n",
    "> - 데이터 시각화는 복잡한 데이터를 한 눈에 파악할 수 있도록 직관적으로 표현함으로써 데이터에 대한 이해를 돕습니다. \n",
    "> - 예를 들어, 주식의 가격 추이를 시간에 따라 시각화한다면, 주식 가격의 변동 패턴, 추세, 이상치 등을 쉽게 파악할 수 있습니다. \n",
    "\n",
    "<br>\n",
    "\n",
    "**2. 데이터 전달**\n",
    "> - 복잡한 데이터를 시각화한다면, 다른 사람들에게 데이터의 핵심 내용을 직관적이고 명확하게 전달할 수 있습니다. \n",
    "> - 예를 들어, 자신의 공부 시간 증가 추이를 부모님에게 전달하고자 할 때, 그래프로 날짜별 공부 시간을 시각화한다면 더 효과적으로 증가 추이를 전달할 수 있습니다. \n",
    "\n",
    "<br>\n",
    "\n",
    "**3. 패턴 및 관계 파악**\n",
    "> - 데이터 시각화는 데이터 간의 패턴이나 관계를 파악하는 데 도움을 줍니다. \n",
    "> - 예를 들어, 고객의 소비 패턴과 선호도에 대해서 시각화하면, 고객의 소비 패턴 선호도 간의 관계를 파악할 수 있고, 이를 통해 개별 고객에 대한 개인화된 서비스를 제공할 수도 있습니다. \n",
    "\n",
    "<br>\n",
    "\n",
    "**4. 결정 지원**\n",
    "> - 데이터를 시각화하면, 경향성이나 패턴을 시각적으로 확인할 수 있으며, 이를 통해 효과적인 의사 결정을 내릴 수 있습니다. \n",
    "> - 예를 들어, 교통 데이터를 시각화하여 파악한 경향성이나 패턴으로 교통 정책 등의 의사결정을 내릴 수 있습니다.\n"
   ]
  },
  {
   "cell_type": "markdown",
   "id": "724a7348-21d8-4b28-8016-7d55128a51a3",
   "metadata": {
    "tags": []
   },
   "source": [
    "<div style=\"padding: 15px; border: 5px solid transparent; border-color: transparent; margin-bottom: 20px; border-radius: 4px; color: #3c763d; border-color: #d6e9c6; font-weight: bold;\">\n",
    "<h2 style='font-weight: bold'>2. 다양한 데이터 시각화 방법</h2>\n",
    "</div> "
   ]
  },
  {
   "cell_type": "markdown",
   "id": "d94a2c44-c0e0-49a4-ae36-7cb3f6b8e9ea",
   "metadata": {},
   "source": [
    "데이터를 시각화하는 방법은 다양합니다.  <br>  \n",
    "우리가 앞으로 다루어 볼 그래프는 `꺾은선 그래프`, `산점도`, `막대그래프`, `원 그래프`, `히스토그램`입니다.  \n",
    "각 그래프들의 유형과 사용 사례들을 살펴 봅시다.   "
   ]
  },
  {
   "cell_type": "markdown",
   "id": "22136db2-ce3e-4b66-8200-31b845d15782",
   "metadata": {
    "tags": []
   },
   "source": [
    "### **1. 꺾은선 그래프(Line Graph)**  \n",
    "> - 꺾은선 그래프는 연속적인 데이터의 변화를 시각적으로 보여주는 그래프입니다.   \n",
    "> - X축에는 시간, 순서 등의 연속적인 값이 표시되고, Y축에는 해당 값에 대응하는 데이터가 표시됩니다.   \n",
    "> - 주로 시간에 따른 변화 추이를 표현할 때 사용됩니다.   \n",
    "> - 예를 들어, 연도별 기온의 변화, 월별 외국인 관광객 수 추이 등을 꺾은선 그래프로 나타낼 수 있습니다."
   ]
  },
  {
   "cell_type": "code",
   "execution_count": null,
   "id": "bc93ef57-1787-41fa-becd-0a0ca07f94eb",
   "metadata": {
    "tags": []
   },
   "outputs": [],
   "source": [
    "import matplotlib.pyplot as plt\n",
    "\n",
    "X1 = ['1일', '2일', '3일', '4일', '5일', '6일', '7일']\n",
    "Y1 = [50, 120, 36, 21, 50, 19, 95]\n",
    "\n",
    "plt.plot(X1, Y1) \n",
    "plt.show() "
   ]
  },
  {
   "cell_type": "markdown",
   "id": "563a7ff3-f1ae-4ba3-8212-305f8c0c8413",
   "metadata": {
    "tags": []
   },
   "source": [
    "### **2. 산점도(Scatter Plot)**  \n",
    "> - 산점도는 두 변수 간의 관계를 시각화하는 그래프입니다.   \n",
    "> - 각 데이터 포인트는 X축과 Y축에 대응하는 값으로 표시되며, 데이터 포인트들이 어떻게 분포하는지 파악할 수 있습니다.   \n",
    "> - 주로 상관관계 분석을 위해 사용됩니다.   \n",
    "> - 예를 들어, 키와 몸무게 사이의 관계, 하루 운동 시간과 체지방률 사이의 관계 등을 산점도로 나타낼 수 있습니다."
   ]
  },
  {
   "cell_type": "code",
   "execution_count": null,
   "id": "a5c52977-d29e-46be-8d66-fb3a20f7b873",
   "metadata": {
    "tags": []
   },
   "outputs": [],
   "source": [
    "X1 = [-3, -2, -1, 1, 2, 4, 5, 6, 7, 8, 10]\n",
    "Y1 = [-0.9, -0.6, -0.3, 0.3, 0.6, 1.2, 1.5, 1.8, 2.1, 2.4, 3.0]\n",
    "\n",
    "plt.scatter(X1, Y1)\n",
    "plt.show()"
   ]
  },
  {
   "cell_type": "markdown",
   "id": "d0c2a962-703d-499d-b1d4-511470ffc6ab",
   "metadata": {
    "tags": []
   },
   "source": [
    "### **3. 막대그래프(Bar Graph)**  \n",
    "> - 막대그래프는 각 범주별로 분포한 대상의 빈도수를 비교하는 그래프입니다.   \n",
    "> - 주로 범주 간의 비교나 분포를 나타내기 위해 사용됩니다.   \n",
    "> - 예를 들어, 각 도시의 인구 수 비교, 학생들의 성적 분포 등을 막대그래프로 표현할 수 있습니다. "
   ]
  },
  {
   "cell_type": "code",
   "execution_count": null,
   "id": "d36bf403-f2ca-4e27-be69-982f97169a51",
   "metadata": {
    "error_code": "기호 = ['1번', '2번', '3번', '4번', '5번', '6번', '7번']\n득표수 = [50, 120, 36, 21, 50, 19, 95]\n\nplt.bar(기호, 득표수) ]\nplt.title(\"학생회장 선거 득표수\")\nplt.show() ",
    "tags": []
   },
   "outputs": [],
   "source": [
    "기호 = ['1번', '2번', '3번', '4번', '5번', '6번', '7번']\n",
    "득표수 = [50, 120, 36, 21, 50, 19, 95]\n",
    "\n",
    "plt.bar(기호, 득표수) \n",
    "plt.show() "
   ]
  },
  {
   "cell_type": "markdown",
   "id": "e77ebfc5-1c2e-4df3-9451-99280eb2182d",
   "metadata": {
    "tags": []
   },
   "source": [
    "### **4. 원 그래프(Pie Chart)**  \n",
    "> - 원 그래프는 전체에 대한 부분의 상대적인 비율을 시각적으로 보여주는 그래프입니다.   \n",
    "> - 원형으로 나누어진 조각들이 각 범주에 대한 비율을 나타냅니다.   \n",
    "> - 주로 범주의 비율이나 구성을 보여줄 때 사용됩니다.   \n",
    "> - 예를 들어, 나이대별 인구 분포, 음식의 탄단지 비율 등을 원 그래프로 표현할 수 있습니다.   "
   ]
  },
  {
   "cell_type": "code",
   "execution_count": null,
   "id": "22615258-147d-463e-a09f-9cc95f085bdc",
   "metadata": {
    "tags": []
   },
   "outputs": [],
   "source": [
    "기호 = ['1번', '2번', '3번', '4번', '5번', '6번', '7번']\n",
    "득표수 = [50, 120, 36, 21, 50, 19, 95]\n",
    "\n",
    "plt.pie(득표수, labels=기호)  \n",
    "plt.show()"
   ]
  },
  {
   "cell_type": "markdown",
   "id": "1bf10216-74cb-4e9e-8058-262454ddb8a9",
   "metadata": {
    "tags": []
   },
   "source": [
    "### **5. 히스토그램(Histogram)**  \n",
    "> - 히스토그램은 값의 크기에 따라 분포된 대상의 빈도수를 비교하는 그래프입니다. \n",
    "> - X축은 데이터의 구간, Y축은 해당 구간에 속하는 데이터의 빈도수를 나타냅니다.   \n",
    "> - 주로 데이터의 분포를 확인하고 이상치를 탐색하기 위해 사용됩니다.   \n",
    "> - 예를 들어, 시험 점수 분포, 소득 수준 분포 등을 히스토그램으로 표현할 수 있습니다.  "
   ]
  },
  {
   "cell_type": "code",
   "execution_count": null,
   "id": "85e20ef8-c8ae-4d11-92fe-7826a6da52c5",
   "metadata": {
    "tags": []
   },
   "outputs": [],
   "source": [
    "쪽지시험점수 = [0] * 3 + [1] * 5 + [2] * 8 + [3] * 10 + [4] * 9 + [5] * 8  # 모든 학생의 점수를 모은 리스트\n",
    "print(쪽지시험점수)\n",
    "\n",
    "plt.hist(쪽지시험점수)  \n",
    "plt.title(\"쪽지시험 점수 분포\")\n",
    "plt.show() "
   ]
  },
  {
   "cell_type": "markdown",
   "id": "f57a7e49-275c-42d0-af6f-bfd377592c9e",
   "metadata": {},
   "source": [
    "<div style=\"padding: 15px; border: 5px solid transparent; border-color: transparent; margin-bottom: 20px; border-radius: 4px; color: #31708f; border-color: #bce8f1;\">\n",
    "    <div style=\"font-weight: bold; font-size: 20px\">🚄 더 해보기</div>\n",
    "    위에서 제시한 5개의 그래프들을 어떤 데이터를 표현할 때 사용하면 좋을지 생각해봅시다. <br>\n",
    "\n",
    "</div>"
   ]
  },
  {
   "cell_type": "markdown",
   "id": "498c9eea-cb07-4347-af55-a37d40ccdcb8",
   "metadata": {
    "tags": []
   },
   "source": [
    "<div style=\"padding: 15px; border: 5px solid transparent; border-color: transparent; margin-bottom: 20px; border-radius: 4px; color: #3c763d; border-color: #d6e9c6; font-weight: bold;\">\n",
    "<h2 style='font-weight: bold'>3. 꺾은선 그래프</h2>\n",
    "</div> "
   ]
  },
  {
   "cell_type": "markdown",
   "id": "af8e2a42-2d29-4fac-a618-781f555d3fa6",
   "metadata": {},
   "source": [
    "### **(1) 꺾은선 그래프 그리기**\n",
    "\n",
    "matplotlib.pyplot 은 하나의 그래프를 figure라는 단위로 나타냅니다.  \n",
    "\n",
    "그래프를 얻기 위해서는 빈 figure에 원하는 그래프를 그린 후 출력하는 두가지 단계를 밟아야합니다.  \n",
    "\n",
    "꺾은선 그래프는 `plot` 함수로 그릴 수 있습니다.\n",
    "\n",
    "> ①  `plt.plot(data)` 를 통해 빈 figure에 데이터를 이용한 꺾은선 그래프를 그릴 수 있습니다.  \n",
    "> ②  `plt.show()` 를 통해 figure를 출력할 수 있습니다. \n",
    "\n",
    "<div style=\"padding: 15px; border: 5px solid transparent; border-color: transparent; margin-bottom: 20px; border-radius: 4px; color: #31708f; border-color: #bce8f1;\">\n",
    "    <div style=\"font-weight: bold; font-size: 20px\">📌 TIP : 그래프 제목 설정</div>\n",
    "    무엇을 나타내는 그래프인지 표현하고 싶다면 다음과 같이 그래프의 제목을 정할 수 있습니다. <br>\n",
    "\n",
    "`plt.title(\"Graph Title\")`\n",
    " : figure에 Graph Title 이란 제목을 씀\n",
    "    \n",
    "</div>"
   ]
  },
  {
   "cell_type": "markdown",
   "id": "8eab36a6-212f-4d4e-849f-6fb19430d13d",
   "metadata": {},
   "source": [
    "#### **판다스 Series로 꺾은선 그래프 그리기**\n",
    "\n",
    "Pandas.Series 형태의 데이터를 다음과 같이 `plot` 함수로 꺾은선 그래프로 나타낼 수 있습니다.  \n",
    "\n",
    "> `plt.plot(Series)`  \n",
    ">  : Series.**index** 에 따른 Series.**values** 데이터를 꺾은선 그래프로 그림\n",
    "\n",
    " 그래프를 출력하기 위해서는 반드시 다음 코드를 연이어 실행해야합니다.  \n",
    "> `plt.show()`"
   ]
  },
  {
   "cell_type": "markdown",
   "id": "7a6300a0-350c-451b-a83a-87b84c381443",
   "metadata": {},
   "source": [
    "**2022서울강수량.csv** 파일에는 2022년 모든 날짜의 서울지역 강수량이 저장되어 있습니다.  \n",
    "서울지역 강수량의 경향성을 확인하기 위해 *월에 따른 총 강수량*을 그래프로 나타내어 봅시다. "
   ]
  },
  {
   "cell_type": "markdown",
   "id": "20e44d1e-2151-4ad1-9a65-cbb8cb3b1674",
   "metadata": {},
   "source": [
    "**예제 1 : csv 파일을 읽어서 데이터 가져오기**"
   ]
  },
  {
   "cell_type": "code",
   "execution_count": null,
   "id": "bfdcb67b-a36a-4821-a09c-55202c8f171a",
   "metadata": {},
   "outputs": [],
   "source": [
    "# 예제 1: csv 파일을 읽어서 데이터 가져오기\n",
    "import pandas as pd\n",
    "import matplotlib.pyplot as plt\n",
    "\n",
    "서울의강수량 = pd.read_csv(\"https://tmn-bucket-materials-all.s3.ap-northeast-2.amazonaws.com/data/2022%EC%84%9C%EC%9A%B8%EA%B0%95%EC%88%98%EB%9F%89.csv\", index_col=0)\n",
    "서울의강수량"
   ]
  },
  {
   "cell_type": "markdown",
   "id": "7b18f4ef-804d-4138-b5cb-3dee3f5fcc13",
   "metadata": {},
   "source": [
    "**예제 2 : Pandas.Series 데이터로 꺾은선 그래프 그리기**"
   ]
  },
  {
   "cell_type": "code",
   "execution_count": null,
   "id": "e4aa0f3e-fda2-4fd9-8cab-666ac988959b",
   "metadata": {},
   "outputs": [],
   "source": [
    "# 예제 2: Pandas.Series 데이터로 꺾은선 그래프 그리기\n",
    "\n",
    "서울의월강수량 = 서울의강수량.sum()  # 행 방향으로 모두 더함 (월별 총 강수량)\n",
    "\n",
    "plt.plot(서울의월강수량, 'o-')  # 빈 figure에 꺾은선 그래프를 그림\n",
    "plt.title(\"2022년 서울의 월 강수량\")  # figure의 제목을 작성 \n",
    "plt.show()  # figure를 출력"
   ]
  },
  {
   "cell_type": "markdown",
   "id": "758438c2-88a4-4ddb-9d56-a9ff8753b8d0",
   "metadata": {},
   "source": [
    "<div style=\"padding: 15px; border: 5px solid transparent; border-color: transparent; margin-bottom: 20px; border-radius: 4px; color: #8a6d3b;  border-color: #faebcc;\">\n",
    "    <div style=\"font-weight: bold; font-size: 20px\">💯 연습문제를 풀어봅시다</div>\n",
    "\n",
    "1. <a class=\"jcecodle-mk jcecodle-mk__problem-chip\" data-problem-id=\"iQDHW7Fgp2E\" href='#jce-judge/open/iQDHW7Fgp2E' target='_self'><span>꺾은선그래프그리기 - 인생행복그래프</span></a>\n",
    "2. <a class=\"jcecodle-mk jcecodle-mk__problem-chip\" data-problem-id=\"2ptXD5vnn_8\" href='#jce-judge/open/2ptXD5vnn_8' target='_self'><span>꺾은선그래프그리기 - 임산부의 몸무게 변화</span></a>\n",
    "</div>"
   ]
  },
  {
   "cell_type": "markdown",
   "id": "84902b52-b90a-4971-a3a9-363e19915199",
   "metadata": {},
   "source": [
    "### **(2) 꺾은선 그래프 겹쳐 그리기**\n",
    "\n",
    "`plot` 함수를 이용해 그래프를 겹쳐 그리는 방법은 크게 두가지로 나눌 수 있습니다.  \n",
    "> \n",
    "> **첫번째, `plot` 함수에 두 데이터를 연달아 넣는다.**  \n",
    "> ①  `plt.plot(data1, data2)` 를 통해 빈 figure에 꺾은선 그래프를 2개 그릴 수 있습니다.  \n",
    "> ②  `plt.show()` 를 통해 figure를 출력할 수 있습니다. \n",
    "\n",
    "\n",
    "> **두번째, plot 함수를 두 번 연달아 사용한다.**  \n",
    "> ①  `plt.plot(data1)` 를 통해 빈 figure에 첫번째 데이터를 이용한 꺾은선 그래프를 그릴 수 있습니다.  \n",
    "> ②  `plt.plot(data2)` 를 통해 figure에 두번째 데이터를 이용한 꺾은선 그래프를 추가해서 그릴 수 있습니다.  \n",
    "> ③  `plt.show()` 를 통해 figure를 출력할 수 있습니다. "
   ]
  },
  {
   "cell_type": "markdown",
   "id": "7417e24d-128f-455f-96d9-9a86b55c509a",
   "metadata": {},
   "source": [
    "#### **plot 함수에 데이터 여러개 연달아 넣는 방법**\n",
    "\n",
    "List 형태의 데이터를 이용하여 `plot` 함수로 여러개의 꺾은선 그래프로 나타내는 방법을 설명하겠습니다.  \n",
    "\n",
    "> `plt.plot(List_X1, List_Y1, List_X2, List_Y2)`  \n",
    "> : List_X1에 따른 List_Y1, List_X2에 따른 List_Y2 데이터를 꺾은선 그래프로 겹쳐서 그림\n",
    "\n",
    "\n",
    "> `plt.plot(List_X1, List_Y1, '1st-line-style', List_X2, List_Y2, '2nd-line-style')`  \n",
    "> : 선의 스타일을 구분하고 싶다면 각 데이터 뒤에 선 스타일을 지정   \n",
    ">(`'o-'`: 점과 실선, `'*-'`: 별과 실선, `'--'`: 점선)  \n",
    "\n",
    "\n",
    "> 그래프를 출력하기 위해서는 반드시 다음 코드를 연이어 실행해야합니다.  \n",
    "> `plt.show()`"
   ]
  },
  {
   "cell_type": "markdown",
   "id": "bbf0e620-c65c-442b-962e-e8b38d93e2e5",
   "metadata": {},
   "source": [
    "**예제 3 : 함수에 여러 데이터 연달아 넣어 꺾은선 그래프 겹쳐그리기**"
   ]
  },
  {
   "cell_type": "code",
   "execution_count": null,
   "id": "b0fdc4b6-6455-4ce5-b651-02db9ebf2f08",
   "metadata": {},
   "outputs": [],
   "source": [
    "import matplotlib.pyplot as plt\n",
    "\n",
    "X1 = ['1일', '2일', '3일', '4일', '5일', '6일', '7일']\n",
    "Y1 = [50, 120, 36, 21, 50, 19, 95]\n",
    "\n",
    "X2 = ['2일', '3일', '4일', '5일', '6일', '7일', '8일']\n",
    "Y2 = [10, 48, 60, 100, 29, 57, 43]\n",
    "\n",
    "plt.plot(X1, Y1, 'o-', X2, Y2, '*-')  # 빈 figure에 꺾은선 그래프를 연달아 그림\n",
    "plt.show()  # figure를 출력"
   ]
  },
  {
   "cell_type": "markdown",
   "id": "8761a6d8-2b79-4d26-a6a0-dad6aa2a5b3c",
   "metadata": {},
   "source": [
    "#### **plot 함수를 연달아 사용하는 방법**\n",
    "\n",
    "위의 예시와 동일한 데이터를 이용하여 `plot` 함수로 여러개의 꺾은선 그래프로 나타내는 방법을 설명하겠습니다.\n",
    "\n",
    "> `plt.plot(Array_X1, Array_Y1)` : 빈 figure에 Array_X1 에 따른 Array_Y1 데이터를 꺾은선 그래프로 그림  \n",
    "\n",
    "> `plt.plot(Array_X2, Array_Y2)` : 위의 figure에 Array_X2 에 따른 Array_Y2 데이터를 꺾은선 그래프로 겹쳐서 그림\n",
    "\n",
    "\n",
    "> 그래프를 출력하기 위해서는 반드시 다음 코드를 연이어 실행해야합니다.  \n",
    "> `plt.show()`"
   ]
  },
  {
   "cell_type": "markdown",
   "id": "0da53779-2044-407e-be37-cae862a594f1",
   "metadata": {},
   "source": [
    "**예제 4 : 함수를 연달아 사용해 꺾은선 그래프 겹쳐 그리기**"
   ]
  },
  {
   "cell_type": "code",
   "execution_count": null,
   "id": "5cf27a70-c059-4f42-a512-d9cd2eb41d20",
   "metadata": {},
   "outputs": [],
   "source": [
    "# 예제 4: 함수를 연달아 사용해 꺾은선 그래프 겹쳐그리기\n",
    "import matplotlib.pyplot as plt\n",
    "\n",
    "X1 = ['1일', '2일', '3일', '4일', '5일', '6일', '7일']\n",
    "Y1 = [50, 120, 36, 21, 50, 19, 95]\n",
    "\n",
    "X2 = ['2일', '3일', '4일', '5일', '6일', '7일', '8일']\n",
    "Y2 = [10, 48, 60, 100, 29, 57, 43]\n",
    "\n",
    "plt.plot(X1, Y1, 'o-')\n",
    "plt.plot(X2, Y2, '*-')\n",
    "plt.show()  # figure를 출력"
   ]
  },
  {
   "cell_type": "markdown",
   "id": "0f8e9e68-deea-4356-9ede-a40d06db9fca",
   "metadata": {},
   "source": [
    "<div style=\"padding: 15px; border: 5px solid transparent; border-color: transparent; margin-bottom: 20px; border-radius: 4px; color: #31708f; border-color: #bce8f1;\">\n",
    "    <div style=\"font-weight: bold; font-size: 20px\">📌 TIP : 범례 표시하기</div>\n",
    "겹쳐진 그래프가 각각 무엇을 나타내는지 표현하고 싶다면 `plt.legend()`를 사용하여 그래프의 범례를 표시할 수 있습니다.  <br>\n",
    "`plt.plot(Array_X1, Array_Y1, label='label1')`와 같이 그래프를 그릴 때 label을 부여한 후 <br>\n",
    "`plt.legend()`을 호출하면 됩니다. <br>\n",
    "구체적인 사용 방법은 하단의 `예제 5`를 참고해주세요.\n",
    "    \n",
    "</div>\n",
    "\n"
   ]
  },
  {
   "cell_type": "markdown",
   "id": "34f613ab-7585-4f6f-b643-debb0f5c9733",
   "metadata": {},
   "source": [
    "**예제 5: 함수를 연달아 사용해 꺾은선 그래프 겹쳐그리고 범례 추가하기**"
   ]
  },
  {
   "cell_type": "code",
   "execution_count": null,
   "id": "bf9652f5-f914-4ca0-a923-9af0d5b7bb35",
   "metadata": {
    "error_code": "# 예제 5: 함수를 연달아 사용해 꺾은선 그래프 겹쳐그리고 범례 추가하기\nimport matplotlib.pyplot as plt\n\nplt.plot(X3, Y3, label='sin(x)')  # 빈 figure에 sin(x) 꺾은선 그래프를 그림\nplt.plot(X4, Y4, label='cos(x)')  # 위의 figure에 cos(x) 꺾은선 그래프를 겹쳐서 그림\nplt.legend()  # figure의 범례를 작성 \nplt.show()  # figure를 출력"
   },
   "outputs": [],
   "source": [
    "# 예제 5: 함수를 연달아 사용해 꺾은선 그래프 겹쳐그리고 범례 추가하기\n",
    "import matplotlib.pyplot as plt\n",
    "import numpy as np  # numpy 라이브러리를 사용하기 위해 np로 축약하여 불러옵니다.\n",
    "\n",
    "X3 = np.arange(0, 7, 0.1)  # 0 부터 0.1 간격으로 7 미만까지의 수를 array에 저장\n",
    "Y3 = np.sin(X3)  # X3 안의 수 x에 대해서 sin(x) 값을 array에 저장\n",
    "X4 = np.arange(0, 7, 0.1)  # 0 부터 0.1 간격으로 7 미만까지의 수를 array에 저장\n",
    "Y4 = np.cos(X4)  # X4 안의 수 x에 대해서 cos(x) 값을 array에 저장\n",
    "\n",
    "plt.plot(X3, Y3, label='sin(x)')  # 빈 figure에 sin(x) 꺾은선 그래프를 그림\n",
    "plt.plot(X4, Y4, label='cos(x)')  # 위의 figure에 cos(x) 꺾은선 그래프를 겹쳐서 그림\n",
    "plt.legend()  # figure의 범례를 작성 \n",
    "plt.show()  # figure를 출력"
   ]
  },
  {
   "cell_type": "markdown",
   "id": "047ff16c-86b9-41a4-b7bd-10fc35d6ac67",
   "metadata": {},
   "source": [
    "### **(3) 판다스 DataFrame으로 그래프 겹쳐 그리기**\n",
    "\n",
    "Pandas.DataFrame 형태의 데이터를 다음과 같이 `plot` 함수로 여러개의 겹쳐 꺾은선 그래프로 나타낼 수 있습니다.  \n",
    "\n",
    "> `plt.plot(DataFrame)`  \n",
    "> : DataFrame.**index** 에 따른 각 열의 데이터를 꺾은선 그래프로 겹쳐서 그림  \n",
    "\n",
    "> `plt.legend(DataFrame.columns)`  \n",
    "> : 각 열의 이름으로 범례를 작성 \n",
    "\n",
    "\n",
    "> 그래프를 출력하기 위해서는 반드시 다음 코드를 연이어 실행해야합니다.  \n",
    "> `plt.show()`"
   ]
  },
  {
   "cell_type": "markdown",
   "id": "a6513982-6429-41c7-98bd-e4a47bd0d17b",
   "metadata": {},
   "source": [
    "**예제 6: Pandas.DataFrame 데이터로 여러개 꺾은선 그래프 겹쳐서 그리기**"
   ]
  },
  {
   "cell_type": "code",
   "execution_count": null,
   "id": "6c69558e-ae99-46be-a914-c60130e925c9",
   "metadata": {
    "error_code": "# 예제 6: Pandas.DataFrame 데이터로 여러개 꺾은선 그래프 겹쳐서 그리기\n\nimport pandas as pd\nimport matplotlib.pyplot as plt\n\n# csv 파일을 읽어서 데이터 가져와서 월에 따른 총 강수량 계산하기\n서울의강수량 = pd.read_csv(\"https://tmn-bucket-materials-all.s3.ap-northeast-2.amazonaws.com/data/2022%EC%84%9C%EC%9A%B8%EA%B0%95%EC%88%98%EB%9F%89.csv\", index_col=0)\n서울의월강수량 = 서울의강수량.sum()  # 행의 방향으로 모두 더함\n서울의월강수량\n\n#서울, 제주의 월에 따른 총 강수량으로 데이터프레임 만들기\n제주의월강수량 = [33.6, 25.1, 96.1, 84, 9.1, 143.6, 149, 124.3, 265.8, 22.1, 87.8, 35.3]\n월강수량 = pd.DataFrame(index=서울의월강수량.index, data={'서울': 서울의월강수량, '제주': 제주의월강수량})\n\n\nplt.plot(월강수량, 'o-')  # 빈 figure에 꺾은선 그래프를 그림\nplt.title(\"2022년 서울, 제주의 월 강수량\")  # figure의 제목을 작성 \nplt.legend(월강수량.columns)  # figure의 범례를 작성 \nplt.show()  # figure를 출력"
   },
   "outputs": [],
   "source": [
    "# 예제 6: Pandas.DataFrame 데이터로 여러개 꺾은선 그래프 겹쳐서 그리기\n",
    "\n",
    "import pandas as pd\n",
    "import matplotlib.pyplot as plt\n",
    "\n",
    "# csv 파일을 읽어서 데이터 가져와서 월에 따른 총 강수량 계산하기\n",
    "서울의강수량 = pd.read_csv(\"https://tmn-bucket-materials-all.s3.ap-northeast-2.amazonaws.com/data/2022%EC%84%9C%EC%9A%B8%EA%B0%95%EC%88%98%EB%9F%89.csv\", index_col=0)\n",
    "서울의월강수량 = 서울의강수량.sum()  # 행의 방향으로 모두 더함\n",
    "서울의월강수량\n",
    "\n",
    "#서울, 제주의 월에 따른 총 강수량으로 데이터프레임 만들기\n",
    "제주의월강수량 = [33.6, 25.1, 96.1, 84, 9.1, 143.6, 149, 124.3, 265.8, 22.1, 87.8, 35.3]\n",
    "월강수량 = pd.DataFrame(index=서울의월강수량.index, data={'서울': 서울의월강수량, '제주': 제주의월강수량})\n",
    "\n",
    "\n",
    "plt.plot(월강수량, 'o-')  # 빈 figure에 꺾은선 그래프를 그림\n",
    "plt.title(\"2022년 서울, 제주의 월 강수량\")  # figure의 제목을 작성 \n",
    "plt.legend(월강수량.columns)  # figure의 범례를 작성 \n",
    "plt.show()  # figure를 출력"
   ]
  },
  {
   "cell_type": "markdown",
   "id": "07921552-4870-49cf-b6d6-07af93f42895",
   "metadata": {},
   "source": [
    "<div style=\"padding: 15px; border: 5px solid transparent; border-color: transparent; margin-bottom: 20px; border-radius: 4px; color: #8a6d3b;  border-color: #faebcc;\">\n",
    "    <div style=\"font-weight: bold; font-size: 20px\">💯 연습문제를 풀어봅시다</div>\n",
    "\n",
    "1. <a class=\"jcecodle-mk jcecodle-mk__problem-chip\" data-problem-id=\"NlP3TBoTPmg\" href='#jce-judge/open/NlP3TBoTPmg' target='_self'><span>꺾은선그래프 중첩 - 인생 행복&행운 그래프</span></a>\n",
    "2. <a class=\"jcecodle-mk jcecodle-mk__problem-chip\" data-problem-id=\"nRFNXIIbcEQ\" href='#jce-judge/open/nRFNXIIbcEQ' target='_self'><span>꺾은선그래프 중첩 - 2차함수와 평행이동</span></a>\n",
    "3. <a class=\"jcecodle-mk jcecodle-mk__problem-chip\" data-problem-id=\"cEo1FqOVNNs\" href='#jce-judge/open/cEo1FqOVNNs' target='_self'><span>꺾은선그래프 중첩 - 비행기 승객수</span></a>\n",
    "\n",
    "    \n",
    "</div>"
   ]
  },
  {
   "cell_type": "markdown",
   "id": "d75771a4-1a86-4c5a-a304-3fe8b756c614",
   "metadata": {
    "tags": []
   },
   "source": [
    "<div style=\"padding: 15px; border: 5px solid transparent; border-color: transparent; margin-bottom: 20px; border-radius: 4px; color: #3c763d; border-color: #d6e9c6; font-weight: bold;\">\n",
    "<h2 style='font-weight: bold'>4. 산점도 그리기</h2>\n",
    "</div> "
   ]
  },
  {
   "cell_type": "markdown",
   "id": "55098df8-5c86-40af-b4f5-f8e9f1190450",
   "metadata": {},
   "source": [
    "### **(1) 산점도 그리기**\n",
    "\n",
    "산점도는 `scatter` 함수로 그릴 수 있습니다.\n",
    "그래프를 얻기 위해서는 빈 figure에 원하는 그래프를 그린 후 출력하는 두가지 단계를 밟아야합니다.  \n",
    "\n",
    "> ①  `plt.scatter(data)` 를 통해 빈 figure에 데이터를 이용한 산점도를 그릴 수 있습니다.  \n",
    "> ②  `plt.show()` 를 통해 figure를 출력할 수 있습니다. "
   ]
  },
  {
   "cell_type": "markdown",
   "id": "857471bd-baff-4b2a-8b33-ea5a83628606",
   "metadata": {},
   "source": [
    "산점도는 두 데이터의 관계를 나타내므로 각 축이 어떤 데이터의 값인지 표현하는 것이 좋습니다.  \n",
    "다음과 같이 각 축의 이름을 쓸 수 있습니다.\n",
    "\n",
    "> `plt.xlabel(\"X축 label\")` : figure의 x축에 이름을 작성  \n",
    "> `plt.ylabel(\"Y축 label\")` : figure의 y축에 이름을 작성"
   ]
  },
  {
   "cell_type": "markdown",
   "id": "e4e0243b-a046-40f2-905f-875299ae350e",
   "metadata": {},
   "source": [
    "#### **판다스 Series 이용하기**\n",
    "\n",
    "Pandas.Series 형태의 데이터를 다음과 같이 `scatter` 함수로 산점도로 나타낼 수 있습니다.  \n",
    ">\n",
    "> `plt.scatter(Series1, Series2)`  \n",
    "> : Series1 에 따른 Series2 데이터를 산점도로 그림\n",
    "\n",
    "> 그래프를 출력하기 위해서는 반드시 다음 코드를 연이어 실행해야합니다.  \n",
    "> `plt.show()`"
   ]
  },
  {
   "cell_type": "markdown",
   "id": "ac9097b3-2b44-4b6d-bf66-d44421e2d035",
   "metadata": {},
   "source": [
    "**scikit-learn** 라이브러리에서 제공하는 **boston** 데이터에는 boston 지역 집들의 가격을 포함한 여러 특징의 정보를 담고 있습니다.  \n",
    "\n",
    " |특징|설명|특징|설명|\n",
    " |---|---|---|---|\n",
    " |**CRIM**|범죄율|**DIS**|직업센터 거리|\n",
    "|**ZN**|넓은 거주지역 비율|**RAD**|고속도로 거리|\n",
    "|**INDUS**|상업지역 비율|**TAX**|재산세율|\n",
    "|**CHAS**|찰스강 유역|**PTRATIO**|학생수/교사수|\n",
    "|**NOX**|NO 농도|**B**|흑인 비율|\n",
    "|**RM**|방 개수|**LSTAT**|차상위자 비율|\n",
    "|**AGE**|고택 비율|**PRICE**|주택 가격|\n",
    "\n",
    " \n",
    "> * 범죄율 - 주택 가격\n",
    "> * 방 개수 - 주택 가격   \n",
    "\n",
    "각 특징과 주택 가격의 관계를 산점도로 그려보고 각 특징과 주택 가격이 어떤 관계가 있는지 생각해봅시다. "
   ]
  },
  {
   "cell_type": "markdown",
   "id": "45739c13-3bb0-423b-8393-f141368042b5",
   "metadata": {},
   "source": [
    "**예제 7: scikit-learn 라이브러리에서 제고하는 boston 데이터 가져오기**"
   ]
  },
  {
   "cell_type": "code",
   "execution_count": null,
   "id": "6af49e73-eeea-4efe-9a70-d005d97445e7",
   "metadata": {
    "error_code": "# 예제 7: scikit-learn 라이브러리에서 제고하는 boston 데이터 가져오기\n\nimport pandas as pd \nimport matplotlib.pyplot as plt  \nfrom sklearn import datasets  # scikit-learn 라이브러리의 datasets 모듈을 불러옵니다.\n\nboston_housing_data = datasets.load_boston()  # boston 데이터의 원자료(raw data)를 불러옴\nboston = pd.DataFrame(boston_housing_data.data)  # 데이터 값으로 DataFrame 생성\nboston.columns = boston_housing_data.feature_names  # 특징 이름을 DataFrame의 column 이름으로 저장\nboston['PRICE'] = boston_housing_data.target  # 집 가격을 PRICE 열로 추가\n\nboston"
   },
   "outputs": [],
   "source": [
    "# 예제 7: scikit-learn 라이브러리에서 제고하는 boston 데이터 가져오기\n",
    "\n",
    "import pandas as pd \n",
    "import matplotlib.pyplot as plt  \n",
    "from sklearn import datasets  # scikit-learn 라이브러리의 datasets 모듈을 불러옵니다.\n",
    "\n",
    "boston_housing_data = datasets.load_boston()  # boston 데이터의 원자료(raw data)를 불러옴\n",
    "boston = pd.DataFrame(boston_housing_data.data)  # 데이터 값으로 DataFrame 생성\n",
    "boston.columns = boston_housing_data.feature_names  # 특징 이름을 DataFrame의 column 이름으로 저장\n",
    "boston['PRICE'] = boston_housing_data.target  # 집 가격을 PRICE 열로 추가\n",
    "\n",
    "boston"
   ]
  },
  {
   "cell_type": "markdown",
   "id": "2b25a00c-2ea9-4b67-9f26-9c5fb0831ea2",
   "metadata": {},
   "source": [
    "**예제 8: 판다스 데이터로 산점도 그리기**"
   ]
  },
  {
   "cell_type": "code",
   "execution_count": null,
   "id": "470406c3-d962-4ab2-a51f-fec46669bfb5",
   "metadata": {
    "error_code": "# 예제 8: 판다스 데이터로 산점도 그리기\n \nplt.scatter(boston['CRIM'], boston['PRICE'])  # 빈 figure에 산점도를 그림\nplt.xlabel(\"범죄율\")  # figure의 x축 이름 작성\nplt.ylabel(\"주택 가격\")  # figure의 y축 이름 작성\nplt.show()  # figure를 출력"
   },
   "outputs": [],
   "source": [
    "# 예제 8: 판다스 데이터로 산점도 그리기\n",
    " \n",
    "plt.scatter(boston['CRIM'], boston['PRICE'])  # 빈 figure에 산점도를 그림\n",
    "plt.xlabel(\"범죄율\")  # figure의 x축 이름 작성\n",
    "plt.ylabel(\"주택 가격\")  # figure의 y축 이름 작성\n",
    "plt.show()  # figure를 출력"
   ]
  },
  {
   "cell_type": "markdown",
   "id": "44730b25-6203-4c06-ba42-45188a09505f",
   "metadata": {},
   "source": [
    "**예제 9: 판다스 데이터로 산점도 그리기**"
   ]
  },
  {
   "cell_type": "code",
   "execution_count": null,
   "id": "8e50dd6f-3ace-4fa1-b302-fb00c70468d9",
   "metadata": {
    "error_code": "# 예제 9: 판다스 데이터로 산점도 그리기\n \nplt.scatter(boston['RM'], boston['PRICE'])  # 빈 figure에 산점도를 그림\nplt.xlabel(\"방 개수\")  # figure의 x축 이름 작성\nplt.ylabel(\"주택 가격\")  # figure의 y축 이름 작성\nplt.show()  # figure를 출력"
   },
   "outputs": [],
   "source": [
    "# 예제 9: 판다스 데이터로 산점도 그리기\n",
    " \n",
    "plt.scatter(boston['RM'], boston['PRICE'])  # 빈 figure에 산점도를 그림\n",
    "plt.xlabel(\"방 개수\")  # figure의 x축 이름 작성\n",
    "plt.ylabel(\"주택 가격\")  # figure의 y축 이름 작성\n",
    "plt.show()  # figure를 출력"
   ]
  },
  {
   "cell_type": "markdown",
   "id": "3479ce01-f9c6-4602-a5fc-e818594bdbe9",
   "metadata": {},
   "source": [
    "<div style=\"padding: 15px; border: 5px solid transparent; border-color: transparent; margin-bottom: 20px; border-radius: 4px; color: #8a6d3b;  border-color: #faebcc;\">\n",
    "    <div style=\"font-weight: bold; font-size: 20px\">💯 연습문제를 풀어봅시다</div>\n",
    "    \n",
    "1. <a class=\"jcecodle-mk jcecodle-mk__problem-chip\" data-problem-id=\"csGicifjhfc\" href='#jce-judge/open/csGicifjhfc' target='_self'><span>산점도 그리기 - 학생수/교사수에 따른 주택가격</span></a>\n",
    "2. <a class=\"jcecodle-mk jcecodle-mk__problem-chip\" data-problem-id=\"gw29YaaFpII\" href='#jce-judge/open/gw29YaaFpII' target='_self'><span>산점도 그리기 - 일산화질소 농도에 따른 주택가격</span></a>\n",
    "</div>"
   ]
  },
  {
   "cell_type": "markdown",
   "id": "a8c2eef7-716b-436c-9477-be6b27eaec35",
   "metadata": {},
   "source": [
    "### **(2) 산점도 겹쳐 그리기**\n",
    "\n",
    "`scatter` 함수를 이용해 그래프를 겹쳐 그리는 방법은 크게 두가지로 나눌 수 있습니다.  \n",
    ">\n",
    "> 첫번째, scatter 함수를 두 번 연달아 사용한다.  \n",
    "> ①  `scatter.plot(data1)` 를 통해 빈 figure에 첫번째 데이터를 이용한 산점도를 그릴 수 있습니다.  \n",
    "> ②  `scatter.plot(data2)` 를 통해 figure에 두번째 데이터를 이용한 산점도를 추가해서 그릴 수 있습니다.  \n",
    "> ③  `plt.show()` 를 통해 figure를 출력할 수 있습니다.\n",
    "\n",
    "\n",
    "> 두번째, `scatter` 함수에 두 데이터를 합쳐서 넣고 라벨 데이터로 점 색깔을 구분한다.  \n",
    "> ①  `plt.scatter(data, c=data-label)` 를 통해 빈 figure에 점 색깔로 구분된 여러 산점도를 그릴 수 있습니다.  \n",
    "> ②  `plt.show()` 를 통해 figure를 출력할 수 있습니다. \n"
   ]
  },
  {
   "cell_type": "markdown",
   "id": "1460d09e-0ace-4c16-a077-9803dd5351ef",
   "metadata": {},
   "source": [
    "#### **1) scatter 함수를 연달아 사용하는 방법**\n",
    "\n",
    "Numpy.array 형태의 데이터를 이용하여 scatter 함수로 여러개의 산점도로 나타내는 방법을 설명하겠습니다.\n",
    ">\n",
    "> `plt.scatter(Array_X1, Array_Y1)` : 빈 figure에 Array_X1 에 따른 Array_Y1 데이터를 산점도로 그림  \n",
    "> `plt.scatter(Array_X2, Array_Y2)` : 위의 figure에 Array_X2 에 따른 Array_Y2 데이터를 산점도로 겹쳐 그림\n",
    "\n",
    "\n",
    "> 그래프를 출력하기 위해서는 반드시 다음 코드를 연이어 실행해야합니다.  \n",
    "> `plt.show()`"
   ]
  },
  {
   "cell_type": "markdown",
   "id": "4fe908c1-d840-4dd8-a5ac-755ee502dd27",
   "metadata": {},
   "source": [
    "**그래프 범례 표시**  \n",
    "각각의 산점도가 어떤 데이터의 값인지 표현하고 싶다면 꺾은선 그래프와 마찬가지로 `plt.legend()`를 사용하여 그래프의 범례를 표시할 수 있습니다. \n",
    "\n",
    "구체적인 방법은 두 가지입니다. \n",
    "\n",
    "> **① 각 그래프에 미리 label 설정하기**  \n",
    "> `plt.scatter(Array_X1, Array_Y1, label='label1')` : 빈 figure에 label1 산점도를 그림  \n",
    "> `plt.scatter(Array_X2, Array_Y2, label='label2')` : 위의 figure에 label2 산점도를 겹쳐서 그림  \n",
    "> `plt.legend()`\n",
    "> : figure안에 각 그래프의 label을 적은 범례를 작성\n",
    "\n",
    "\n",
    "> **② legend 함수 호출 시 label 설정**  \n",
    "> `plt.legend(['label1', 'label2'])`: 산점도가 그려진 순서대로 리스트의 label을 부여해 범례를 작성"
   ]
  },
  {
   "cell_type": "markdown",
   "id": "72134791-1a21-4873-b809-cec92e9f22de",
   "metadata": {},
   "source": [
    "**점의 모양 설정**  \n",
    "산점도를 그릴때에는 점(marker)의 모양을 선택할 수 있습니다.  \n",
    "여러개의 산점도를 그릴때 서로 다른 모양을 선택하면 점을 구분하는데 도움이 됩니다.  \n",
    " \n",
    "`plt.scatter(data, marker='marker-style')` : 지정된 모양의 점으로 산점도를 그림\n",
    "> **점의 종류**\n",
    ">* `'o'` : 원  \n",
    ">* `'^'` : 세모  \n",
    ">* `'s'` : 네모  \n",
    ">* `'*'` : 별"
   ]
  },
  {
   "cell_type": "markdown",
   "id": "d4eb5cbe-e1e7-4e9f-afe0-aeb72865a54c",
   "metadata": {},
   "source": [
    "**예제 10: 산점도 그리기**"
   ]
  },
  {
   "cell_type": "code",
   "execution_count": null,
   "id": "1031d6d8-b08c-460f-bb2e-78aae50f04cd",
   "metadata": {
    "error_code": "# 예제 10: 산점도 그리기\nimport pandas as pd \nimport matplotlib.pyplot as plt  \n\nX1 = [-3, -2, -1, 1, 2, 4, 5, 6, 7, 8, 10] \nY1 =[-0.9, -0.6, -0.3, 0.3, 0.6, 1.2, 1.5, 1.8, 2.1, 2.4, 3.0]  \n\nX2 = [5, 2, 7, 8, 6, 9, 1, 3, 10, 4] \nY2 = [5, 2, 7, 8, 6, 9, 1, 3, 10, 4] \n\nplt.scatter(X1, Y1)  # 빈 figure에 산점도를 그림\nplt.scatter(X2, Y2)  # 위의 figure에 산점도를 겹쳐서 그림\nplt.xlabel('x')  # figure의 x축 이름 작성\nplt.ylabel('y')  # figure의 y축 이름 작성\nplt.show()  # figure를 출력"
   },
   "outputs": [],
   "source": [
    "# 예제 10: 산점도 그리기\n",
    "import pandas as pd \n",
    "import matplotlib.pyplot as plt  \n",
    "\n",
    "X1 = [-3, -2, -1, 1, 2, 4, 5, 6, 7, 8, 10] \n",
    "Y1 =[-0.9, -0.6, -0.3, 0.3, 0.6, 1.2, 1.5, 1.8, 2.1, 2.4, 3.0]  \n",
    "\n",
    "X2 = [5, 2, 7, 8, 6, 9, 1, 3, 10, 4] \n",
    "Y2 = [5, 2, 7, 8, 6, 9, 1, 3, 10, 4] \n",
    "\n",
    "plt.scatter(X1, Y1)  # 빈 figure에 산점도를 그림\n",
    "plt.scatter(X2, Y2)  # 위의 figure에 산점도를 겹쳐서 그림\n",
    "plt.xlabel('x')  # figure의 x축 이름 작성\n",
    "plt.ylabel('y')  # figure의 y축 이름 작성\n",
    "plt.show()  # figure를 출력"
   ]
  },
  {
   "cell_type": "markdown",
   "id": "e3f4a69b-3a8f-47e6-a455-2ca6143e5948",
   "metadata": {},
   "source": [
    "**예제 11: 산점도 그리고 범례 추가**"
   ]
  },
  {
   "cell_type": "code",
   "execution_count": null,
   "id": "adbfaeb5-780d-49c8-a08b-03dffc012ec8",
   "metadata": {
    "error_code": "# 예제 11: 산점도 그리고 범례 추가\n\nplt.scatter(X1, Y1)  # 빈 figure에 산점도를 그림\nplt.scatter(X2, Y2)  # 위의 figure에 산점도를 겹쳐서 그림\nplt.xlabel('x')  # figure의 x축 이름 작성\nplt.ylabel('y')  # figure의 y축 이름 작성\nplt.legend(['x1, y1', 'x2, y2'])  # 범례 작성\nplt.show()  # figure를 출력"
   },
   "outputs": [],
   "source": [
    "# 예제 11: 산점도 그리고 범례 추가\n",
    "\n",
    "plt.scatter(X1, Y1)  # 빈 figure에 산점도를 그림\n",
    "plt.scatter(X2, Y2)  # 위의 figure에 산점도를 겹쳐서 그림\n",
    "plt.xlabel('x')  # figure의 x축 이름 작성\n",
    "plt.ylabel('y')  # figure의 y축 이름 작성\n",
    "plt.legend(['x1, y1', 'x2, y2'])  # 범례 작성\n",
    "plt.show()  # figure를 출력"
   ]
  },
  {
   "cell_type": "markdown",
   "id": "05102e4e-25c2-427c-8e98-f79fb6391d25",
   "metadata": {},
   "source": [
    "**예제 12: 산점도 다른 점 모양으로 그리기**"
   ]
  },
  {
   "cell_type": "code",
   "execution_count": null,
   "id": "dd65ad32-4c3d-4976-b729-dfa68a8b3e60",
   "metadata": {
    "error_code": "# 예제 12: 산점도 다른 점 모양으로 그리기\n\nplt.scatter(X1, Y1, marker='o')  # 빈 figure에 산점도를 원모양 점으로 그림\nplt.scatter(X2, Y2, marker='s')  # 위의 figure에 산점도를 네모모양 점으로 겹쳐서 그림\nplt.xlabel('x')  # figure의 x축 이름 작성\nplt.ylabel('y')  # figure의 y축 이름 작성\nplt.legend(['x1, y1', 'x2, y2'])  # 범례 작성\nplt.show()  # figure를 출력"
   },
   "outputs": [],
   "source": [
    "# 예제 12: 산점도 다른 점 모양으로 그리기\n",
    "\n",
    "plt.scatter(X1, Y1, marker='o')  # 빈 figure에 산점도를 원모양 점으로 그림\n",
    "plt.scatter(X2, Y2, marker='s')  # 위의 figure에 산점도를 네모모양 점으로 겹쳐서 그림\n",
    "plt.xlabel('x')  # figure의 x축 이름 작성\n",
    "plt.ylabel('y')  # figure의 y축 이름 작성\n",
    "plt.legend(['x1, y1', 'x2, y2'])  # 범례 작성\n",
    "plt.show()  # figure를 출력"
   ]
  },
  {
   "cell_type": "markdown",
   "id": "b6af1ace-21d9-4ad6-8231-2e512b4677da",
   "metadata": {},
   "source": [
    "#### **2) 판다스 Series 이용하기**\n",
    "\n",
    "Pandas.Series 형태의 데이터를 이용하여 scatter 함수로 여러개의 산점도를 나타내는 방법을 설명하겠습니다.\n",
    ">\n",
    "> `plt.scatter(Series1, Series2, c=Series-label)`  \n",
    "> : Series1 에 따른 Series2 데이터로 산점도를 그림\n",
    "> 이때 c 매개변수를 지정하여 Series-label에 저장된 값에 따라 다른 색의 점으로 산점도를 그림  \n",
    "\n",
    "> 그래프를 출력하기 위해서는 반드시 다음 코드를 연이어 실행해야합니다.  \n",
    "> `plt.show()`\n",
    "\n",
    "<div style=\"padding: 15px; border: 5px solid transparent; border-color: transparent; margin-bottom: 20px; border-radius: 4px; color: #31708f; border-color: #bce8f1;\">\n",
    "    <div style=\"font-weight: bold; font-size: 20px\">📌 TIP </div>\n",
    "    주의사항: Series-label의 값은 숫자 혹은 RGB color값(예: #bcbd22) 이어야 합니다.\n",
    "</div>\n",
    "\n",
    "\n",
    "\n",
    "\n",
    "\n"
   ]
  },
  {
   "cell_type": "markdown",
   "id": "559281c2-cbd9-458d-8c41-2afaeb27f420",
   "metadata": {},
   "source": [
    "> **seaborn** 라이브러리에서 제공하는 **iris** 데이터에는 붓꽃(iris)의 종류와 꽃받침, 꽃잎의 크기 정보를 담고 있습니다.\n",
    ">\n",
    "> |특징|설명|\n",
    "> |---|---|\n",
    "> |**sepal length**|꽃받침 길이|\n",
    "|**sepal width**|꽃받침 너비|\n",
    "|**petal length**|꽃잎 길이|\n",
    "|**petal width**|꽃잎 너비|\n",
    "|**species**|붓꽃의 종|\n",
    ">\n",
    "> 각 특징 간의 관계를 산점도로 나타내고 붓꽃의 종에 따라 구분하여 봅시다.\n",
    "> * 붓꽃의 종류 별 꽃받침 길이(sepal length) - 꽃잎 길이(petal length)\n",
    "> * 붓꽃의 종류 별 꽃받침 길이(sepal length) - 꽃받침 너비(sepal width)\n"
   ]
  },
  {
   "cell_type": "markdown",
   "id": "5b35107e-4cd9-4a16-ac88-f7ce0f640c30",
   "metadata": {},
   "source": [
    "**예제 13: seaborn 라이브러리에서 제공하는 iris 데이터 가져오기**"
   ]
  },
  {
   "cell_type": "code",
   "execution_count": null,
   "id": "e303e225-2c06-431e-8cd7-12889891b178",
   "metadata": {
    "error_code": "# 예제 13: seaborn 라이브러리에서 제공하는 iris 데이터 가져오기\nimport pandas as pd \nimport matplotlib.pyplot as plt  \nimport seaborn as sns  # seaborn 라이브러리를 sns로 축약하여 불러옵니다.\n\ndf = sns.load_dataset(\"iris\")  # iris 데이터를 불러옵니다.\ndf",
    "tags": []
   },
   "outputs": [],
   "source": [
    "# 예제 13: seaborn 라이브러리에서 제공하는 iris 데이터 가져오기\n",
    "import pandas as pd \n",
    "import matplotlib.pyplot as plt  \n",
    "import seaborn as sns  # seaborn 라이브러리를 sns로 축약하여 불러옵니다.\n",
    "\n",
    "df = sns.load_dataset(\"iris\")  # iris 데이터를 불러옵니다.\n",
    "df"
   ]
  },
  {
   "cell_type": "markdown",
   "id": "82b219f8-6f3a-4884-84bd-854358ace03d",
   "metadata": {},
   "source": [
    "**예제 14: 판다스 데이터로 산점도 그리고 라벨에 따라 구분하기**"
   ]
  },
  {
   "cell_type": "code",
   "execution_count": null,
   "id": "9560c3fb-f364-4922-94a0-857870f4d433",
   "metadata": {
    "error_code": "# 예제 14: 판다스 데이터로 산점도 그리고 라벨에 따라 구분하기\n\ncolor_label = df['species'].replace({'setosa': 0, 'versicolor': 1, 'virginica': 2})  # 붓꽃의 종에 따라 다른 숫자값을 가지는 label 시리즈 생성\n \nplt.scatter(df['sepal_length'], df['petal_length'], c=color_label)  # 빈 figure에 산점도를 그리고 label에 따라 색깔로 구분\nplt.xlabel(\"꽃받침 길이 (sepal length)\")  # figure의 x축 이름 작성\nplt.ylabel(\"꽃잎 길이 (petal length)\")  # figure의 y축 이름 작성\nplt.show()  # figure를 출력",
    "tags": []
   },
   "outputs": [],
   "source": [
    "# 예제 14: 판다스 데이터로 산점도 그리고 라벨에 따라 구분하기\n",
    "\n",
    "color_label = df['species'].replace({'setosa': 0, 'versicolor': 1, 'virginica': 2})  # 붓꽃의 종에 따라 다른 숫자값을 가지는 label 시리즈 생성\n",
    " \n",
    "plt.scatter(df['sepal_length'], df['petal_length'], c=color_label)  # 빈 figure에 산점도를 그리고 label에 따라 색깔로 구분\n",
    "plt.xlabel(\"꽃받침 길이 (sepal length)\")  # figure의 x축 이름 작성\n",
    "plt.ylabel(\"꽃잎 길이 (petal length)\")  # figure의 y축 이름 작성\n",
    "plt.show()  # figure를 출력"
   ]
  },
  {
   "cell_type": "markdown",
   "id": "81b15954-3e9d-4501-8ed5-bf5fdddd0ef2",
   "metadata": {},
   "source": [
    "**예제 15: 판다스 데이터로 산점도 그리고 라벨에 따라 구분하기**"
   ]
  },
  {
   "cell_type": "code",
   "execution_count": null,
   "id": "ea8b5b86-6909-4b7f-b491-30f5fbefa7fd",
   "metadata": {
    "error_code": "# 예제 15: 판다스 데이터로 산점도 그리고 라벨에 따라 구분하기\n\ncolor_label = df['species'].replace({'setosa': 0, 'versicolor': 1, 'virginica': 2})  # 붓꽃의 종에 따라 다른 숫자값을 가지는 label 시리즈 생성\n \nplt.scatter(df['sepal_length'], df['sepal_width'], c=color_label)  # 빈 figure에 산점도를 그리고 label에 따라 색깔로 구분\nplt.xlabel(\"꽃받침 길이 (sepal length)\")  # figure의 x축 이름 작성\nplt.ylabel(\"꽃받침 너비 (sepal width)\")  # figure의 y축 이름 작성\nplt.show()  # figure를 출력",
    "tags": []
   },
   "outputs": [],
   "source": [
    "# 예제 15: 판다스 데이터로 산점도 그리고 라벨에 따라 구분하기\n",
    "\n",
    "color_label = df['species'].replace({'setosa': 0, 'versicolor': 1, 'virginica': 2})  # 붓꽃의 종에 따라 다른 숫자값을 가지는 label 시리즈 생성\n",
    " \n",
    "plt.scatter(df['sepal_length'], df['sepal_width'], c=color_label)  # 빈 figure에 산점도를 그리고 label에 따라 색깔로 구분\n",
    "plt.xlabel(\"꽃받침 길이 (sepal length)\")  # figure의 x축 이름 작성\n",
    "plt.ylabel(\"꽃받침 너비 (sepal width)\")  # figure의 y축 이름 작성\n",
    "plt.show()  # figure를 출력"
   ]
  },
  {
   "cell_type": "markdown",
   "id": "e16e0931-9152-4e17-9513-175c00303e18",
   "metadata": {},
   "source": [
    "<div style=\"padding: 15px; border: 5px solid transparent; border-color: transparent; margin-bottom: 20px; border-radius: 4px; color: #8a6d3b;  border-color: #faebcc; font-weight: bold;\">\n",
    "    <div style=\"font-weight: bold; font-size: 20px\">✏️ 생각해보기</div>\n",
    "    <br>\n",
    "예제 14, 15에서 그린 산점도를 보고 붓꽃의 종류를 구분하기 위해 필요한 특징이 무엇인지 생각해봅시다.  <br>\n",
    "</div>"
   ]
  },
  {
   "cell_type": "markdown",
   "id": "00ead020-e6d9-41ca-ab6e-29f705853b2f",
   "metadata": {},
   "source": [
    "<div style=\"padding: 15px; border: 5px solid transparent; border-color: transparent; margin-bottom: 20px; border-radius: 4px; color: #8a6d3b;  border-color: #faebcc;\">\n",
    "    <div style=\"font-weight: bold; font-size: 20px\">💯 연습문제를 풀어봅시다</div>\n",
    "    \n",
    "1. <a class=\"jcecodle-mk jcecodle-mk__problem-chip\" data-problem-id=\"TngPU_CH4wE\" href='#jce-judge/open/TngPU_CH4wE' target='_self'><span>산점도 중첩 - 펭귄 부리 길이와 깊이</span></a>\n",
    "2. <a class=\"jcecodle-mk jcecodle-mk__problem-chip\" data-problem-id=\"TMClUfDB13k\" href='#jce-judge/open/TMClUfDB13k' target='_self'><span>산점도 중첩 - 펭귄 날개 길이와 몸무게</span></a>\n",
    "\n",
    "</div>"
   ]
  }
 ],
 "metadata": {
  "kernelspec": {
   "display_name": "Python 3 (ipykernel)",
   "language": "python",
   "name": "python3"
  },
  "language_info": {
   "codemirror_mode": {
    "name": "ipython",
    "version": 3
   },
   "file_extension": ".py",
   "mimetype": "text/x-python",
   "name": "python",
   "nbconvert_exporter": "python",
   "pygments_lexer": "ipython3",
   "version": "3.10.12"
  }
 },
 "nbformat": 4,
 "nbformat_minor": 5
}

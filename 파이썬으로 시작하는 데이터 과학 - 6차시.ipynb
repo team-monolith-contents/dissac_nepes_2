{
 "cells": [
  {
   "cell_type": "markdown",
   "id": "ecd78426-2260-4c15-9c72-c84484fa1f40",
   "metadata": {},
   "source": [
    "<div style=\"padding: 15px; border: 5px solid transparent; border-color: transparent; margin-bottom: 20px; border-radius: 4px; color: #3c763d; background-color: #dff0d8; border-color: #d6e9c6; font-weight: bold;\">\n",
    "    <br><br>\n",
    "    <div style=\"font-weight: bold; font-size: 40px\">파이썬으로 시작하는 데이터 과학</div>\n",
    "    <div style=\"font-weight: bold; font-size: 20px\">(6) 다양한 그래프</div>\n",
    "    <hr style=\"width:80%;text-align:left;margin-left:0;border:0.5px solid green\">\n",
    "    <br>\n",
    "    &#x2022; 막대 그래프를 그릴 수 있다.  <br>\n",
    "    &#x2022; 원 그래프를 그릴 수 있다. <br>\n",
    "    &#x2022; 히스토그램을 그릴 수 있다. <br>\n",
    "</div>"
   ]
  },
  {
   "cell_type": "markdown",
   "id": "971aeea0-55c0-4536-8aeb-979941d00b5d",
   "metadata": {
    "jp-MarkdownHeadingCollapsed": true,
    "tags": []
   },
   "source": [
    "<div style=\"padding: 15px; border: 5px solid transparent; border-color: transparent; margin-bottom: 20px; border-radius: 4px; color: #3c763d; border-color: #d6e9c6; font-weight: bold;\">\n",
    "<h2 style='font-weight: bold'>1. 막대 그래프 그리기</h2>\n",
    "</div> "
   ]
  },
  {
   "cell_type": "markdown",
   "id": "23355bae-be74-4d32-9c87-311a97f67076",
   "metadata": {},
   "source": [
    "### **(1) 막대그래프 그리기**\n",
    " \n",
    "막대그래프는 `bar` 함수로 그릴 수 있습니다.\n",
    "그래프를 얻기 위해서는 빈 figure에 원하는 그래프를 그린 후 출력하는 두가지 단계를 밟아야합니다.  \n",
    "\n",
    ">\n",
    "> ①  `plt.bar(data)` 를 통해 빈 figure에 데이터를 이용한 막대그래프를 그릴 수 있습니다.  \n",
    "> ②  `plt.show()` 를 통해 figure를 출력할 수 있습니다. "
   ]
  },
  {
   "cell_type": "markdown",
   "id": "f16c6b9d-b655-43b3-8b42-0518ec674e57",
   "metadata": {},
   "source": [
    "**막대 색 변경**  \n",
    "각 데이터를 색깔로 구분하고 싶다면 다음과 같이 막대의 색을 변경할 수 있습니다.  \n",
    ">\n",
    "> `plt.bar(List_X, List_Y, color=List_color)`  \n",
    ">: 각 막대의 색정보를 담은 리스트(List_color)를 color 인수에 지정해줍니다.  \n",
    ">\n",
    "\n",
    "> **색깔별로 이름이 정해져 있습니다.**\n",
    "> * 검정/하얀색: k/w\n",
    "> * 빨강/초록/파랑: r/g/b\n",
    "> * 회색/주황/노랑/남색/보라/핑크: gray/orange/yellow/navy/purple/pink\n",
    "> * 더 다양한 색깔 정보 [링크!](https://matplotlib.org/stable/gallery/color/named_colors.html#sphx-glr-gallery-color-named-colors-py)\n",
    "> \n",
    "\n",
    "<br>\n",
    "\n",
    "**눈금 격자(안내선) 추가**  \n",
    "막대그래프는 각 범주별 수치를 비교하는게 목적이므로 y축 눈금을 나타내는 격자(안내선)를 추가하면 유용합니다.   \n",
    "다음과 같이 각 축의 격자를 추가할 수 있습니다.\n",
    ">\n",
    "> `plt.grid(axis='x')` : figure의 x축 격자를 그림  \n",
    "> `plt.grid(axis='y')` : figure의 y축 격자를 그림  \n",
    "> `plt.grid()` : figure의 x, y축 격자를 모두 그림"
   ]
  },
  {
   "cell_type": "markdown",
   "id": "72290fa2-8218-4c2f-8c46-0aea9b1c09c1",
   "metadata": {},
   "source": [
    "#### **판다스 Series 이용하기**\n",
    "\n",
    "Pandas.Series 형태의 데이터를 다음과 같이 `bar` 함수로 막대그래프로 나타낼 수 있습니다.  \n",
    "\n",
    "> `plt.bar(Series1, Series2)`  \n",
    "> : Series1 에 따른 Series2 데이터를 막대그래프로 그림\n",
    "\n",
    "\n",
    "> 그래프를 출력하기 위해서는 반드시 다음 코드를 연이어 실행해야합니다.  \n",
    "> `plt.show()`\n",
    "\n",
    "<br>\n",
    "\n",
    "**202301인구현황.csv** 파일에는 2023년 1월 기준 대한민국의 범주별 인구 수가 저장되어 있습니다.   \n",
    "지열별로 청소년 인구 수를 비교하기 위해 *청소년 인구현황*을 그래프로 나타내어 봅시다. "
   ]
  },
  {
   "cell_type": "markdown",
   "id": "ee1e3303-a2f7-4923-b192-0a8dd82392e7",
   "metadata": {},
   "source": [
    "**예제 1: csv 파일을 읽어서 데이터 가져오기**"
   ]
  },
  {
   "cell_type": "code",
   "execution_count": null,
   "id": "11d90ccf-36a1-451e-8c6b-692a58a197fd",
   "metadata": {},
   "outputs": [],
   "source": [
    "# 예제 1: csv 파일을 읽어서 데이터 가져오기\n",
    "\n",
    "import pandas as pd  \n",
    "import matplotlib.pyplot as plt  \n",
    "\n",
    "인구현황 = pd.read_csv(\"https://tmn-bucket-materials-all.s3.ap-northeast-2.amazonaws.com/data/202301%EC%9D%B8%EA%B5%AC%ED%98%84%ED%99%A9.csv\", index_col=0)\n",
    "인구현황"
   ]
  },
  {
   "cell_type": "markdown",
   "id": "4ea8aa54-469f-4f12-bd54-5fffc470f49c",
   "metadata": {},
   "source": [
    "**예제 2: Pandas.Series 데이터로 막대그래프 그리기**"
   ]
  },
  {
   "cell_type": "code",
   "execution_count": null,
   "id": "0be4102f-1b69-4144-a0f4-8aa0384575e1",
   "metadata": {},
   "outputs": [],
   "source": [
    "# 예제 2: Pandas.Series 데이터로 막대그래프 그리기\n",
    "\n",
    "plt.bar(인구현황.index, 인구현황.청소년)  # 빈 figure에 막대그래프를 그림\n",
    "plt.title(\"2023년 1월 청소년 인구현황\")  # figure의 제목을 작성 \n",
    "plt.show()  # figure를 출력"
   ]
  },
  {
   "cell_type": "markdown",
   "id": "b962d530-b6cd-48f5-81d5-eb1d3d867725",
   "metadata": {},
   "source": [
    "**예제 3: Pandas.Series 데이터로 막대그래프 그리고 격자 추가하기**"
   ]
  },
  {
   "cell_type": "code",
   "execution_count": null,
   "id": "9252b79f-c0de-4f61-8c70-ff181d743e35",
   "metadata": {},
   "outputs": [],
   "source": [
    "# 예제 3: Pandas.Series 데이터로 막대그래프 그리고 격자 추가하기\n",
    "\n",
    "plt.bar(인구현황.index, 인구현황.청소년)  # 빈 figure에 막대그래프를 그림\n",
    "plt.title(\"2023년 1월 청소년 인구현황\")  # figure의 제목을 작성 \n",
    "plt.grid(axis='y')  # y축 격자 추가\n",
    "plt.show()  # figure를 출력"
   ]
  },
  {
   "cell_type": "markdown",
   "id": "86429f03-8a93-4943-9af8-91817c1c200f",
   "metadata": {},
   "source": [
    "### **(2) 막대그래프 겹쳐서 그리기**\n",
    "\n",
    "막대그래프 여러개를 겹쳐서 그리려면 `bar` 함수로 연달아 그래프를 그리면 됩니다.  \n",
    "주의할 점은, x축 값을 숫자로 만들고 두 그래프가 겹치지 않도록 다음과 같이 x값을 구분해주어야 합니다. \n",
    "\n",
    "\n",
    "> `X = [0, 1, 2, ..., 데이터길이-1]`: 데이터의 길이와 같은 x축 값을 생성  \n",
    "> `plt.bar(X, data1, width)`  \n",
    "> : data1 데이터를 간격 1, 너비 width인 막대그래프로 그림  \n",
    "> `plt.bar(X+width, data2, width)`   \n",
    "> : data2 데이터를 위의 막대그래프보다 오른쪽으로 width만큼 떨어진 곳에 막대그래프로 그림 \n",
    "\n",
    "> 그래프를 출력하기 위해서는 반드시 다음 코드를 연이어 실행해야합니다.  \n",
    "> `plt.show()`\n",
    ">\n",
    "\n",
    "<br>\n",
    "\n",
    "**눈금 이름 바꾸기**   \n",
    "다음과 같은 방법으로 x축 눈금의 이름을 바꿀 수 있습니다.   \n",
    "> `plt.xticks(X, data_X)`: x축 눈금의 이름을 X에서 data_X로 바꾸어 작성  \n",
    "\n",
    "\n",
    "\n"
   ]
  },
  {
   "cell_type": "markdown",
   "id": "79240a8d-c372-4832-9939-a379430b7aeb",
   "metadata": {},
   "source": [
    "**202301인구현황.csv** 파일의 데이터를 이용하여  \n",
    "지열별로 청소년 인구 수를 남녀별로 나타내는 막대그래프를 함께 나타내어 봅시다.  "
   ]
  },
  {
   "cell_type": "markdown",
   "id": "259d1f14-5b58-4e1c-a1a3-c4fe0f6f65b8",
   "metadata": {},
   "source": [
    "**예제 4: 막대그래프 겹쳐서 그리기**"
   ]
  },
  {
   "cell_type": "code",
   "execution_count": null,
   "id": "b32dc967-25b9-4020-87da-7f33408c1935",
   "metadata": {},
   "outputs": [],
   "source": [
    "# 예제 4: 막대그래프 겹쳐서 그리기\n",
    "import pandas as pd  \n",
    "import matplotlib.pyplot as plt \n",
    "import numpy as np  # numpy 라이브러리를 사용하기 위해 np로 축약하여 불러옵니다.\n",
    "\n",
    "X = np.arange(len(인구현황.index))  # X축 데이터로 활용할 [0, 1, 2, ...] array를 생성\n",
    "\n",
    "plt.bar(X, 인구현황.청소년남자, 0.4)  # 빈 figure에 0.4 너비의 막대그래프를 그림\n",
    "plt.bar(X+0.4, 인구현황.청소년여자, 0.4)  # 위의 figure에 0.4 너비의 막대그래프를 겹쳐서 그림\n",
    "plt.xticks(X, 인구현황.index)  # 그래프의 X축 라벨을 지역 이름으로 바꾸어 작성\n",
    "\n",
    "plt.title(\"2023년 1월 남녀별 청소년 인구현황\")  # figure의 제목을 작성 \n",
    "plt.grid(axis='y')  # figure의 y축 격자를 그림\n",
    "plt.legend(['남자', '여자'])  # 각 그래프의 범례를 작성\n",
    "plt.show()  # figure를 출력"
   ]
  },
  {
   "cell_type": "markdown",
   "id": "39880196-901e-4dca-bcde-c17aef8389f6",
   "metadata": {},
   "source": [
    "<div style=\"padding: 15px; border: 5px solid transparent; border-color: transparent; margin-bottom: 20px; border-radius: 4px; color: #8a6d3b;  border-color: #faebcc;\">\n",
    "    <div style=\"font-weight: bold; font-size: 20px\">💯 연습문제를 풀어봅시다</div>\n",
    "\n",
    "1. <a class=\"jcecodle-mk jcecodle-mk__problem-chip\" data-problem-id=\"MWYwgGRE6K0\" href='#jce-judge/open/MWYwgGRE6K0' target='_self'><span>막대그래프 그리기 - 전국 눈일수 </span></a>\n",
    "2. <a class=\"jcecodle-mk jcecodle-mk__problem-chip\" data-problem-id=\"HNra_MYZCBA\" href='#jce-judge/open/HNra_MYZCBA' target='_self'><span>막대그래프 중첩 - 전국 강수일수 눈일수</span></a>\n",
    "</div>"
   ]
  },
  {
   "cell_type": "markdown",
   "id": "efdf0a51-ff97-4544-9ffe-c3a8ea7e36f8",
   "metadata": {
    "jp-MarkdownHeadingCollapsed": true,
    "tags": []
   },
   "source": [
    "<div style=\"padding: 15px; border: 5px solid transparent; border-color: transparent; margin-bottom: 20px; border-radius: 4px; color: #3c763d; border-color: #d6e9c6; font-weight: bold;\">\n",
    "<h2 style='font-weight: bold'>2. 원 그래프 그리기</h2>\n",
    "</div> "
   ]
  },
  {
   "cell_type": "markdown",
   "id": "b757c8b4-48c9-4336-81cc-4ee2991ebdb4",
   "metadata": {},
   "source": [
    "### **(1) 원그래프 그리기**\n",
    "\n",
    "원그래프는 `pie` 함수로 그릴 수 있습니다.  \n",
    "그래프를 얻기 위해서는 빈 figure에 원하는 그래프를 그린 후 출력하는 두가지 단계를 밟아야합니다.  \n",
    "\n",
    "> ①  `plt.pie(data)` 를 통해 빈 figure에 데이터를 이용한 원그래프를 그릴 수 있습니다.  \n",
    "> ②  `plt.show()` 를 통해 figure를 출력할 수 있습니다. "
   ]
  },
  {
   "cell_type": "markdown",
   "id": "d5a50bae-2fbb-458e-b83e-a539dc2c787d",
   "metadata": {},
   "source": [
    "**각 부채꼴의 비율 표시**  \n",
    "원그래프에서는 각 부채꼴을 나타내는 데이터가 얼마의 비율을 차지하는지 적어주는 것이 좋습니다.  \n",
    "\n",
    "`plt.pie(List_Y, labels=List_X, autopct='%f')`  \n",
    ": 각 부채꼴이 차지하는 비율을 작성\n",
    "\n",
    "> 나타내고 싶은 자리수에 따라 다른 기호를 이용합니다. \n",
    ">* `%d` :  정수로 표현\n",
    ">* `%.1f` : 소수 첫째 자리까지 표현\n",
    ">* `%.2f` : 소수 둘째 자리까지 표현"
   ]
  },
  {
   "cell_type": "markdown",
   "id": "1b0c43a6-de6c-4312-9aa7-dc8f5f26c56a",
   "metadata": {},
   "source": [
    "**방향 전환**  \n",
    "원그래프가 그려질때는 기본적으로 시계반대방향으로 그려집니다.  \n",
    "> 시계방향으로 바꾸고 싶다면 `counterclock=False` 로 인수를 지정해주면 됩니다. "
   ]
  },
  {
   "cell_type": "markdown",
   "id": "78a160bc-08f6-44fd-b5c9-17af62f24382",
   "metadata": {},
   "source": [
    "**예제 5: List 데이터로 원그래프 그리기**"
   ]
  },
  {
   "cell_type": "code",
   "execution_count": null,
   "id": "7dbcd952-ca7f-4269-b3ba-9f598996cefc",
   "metadata": {},
   "outputs": [],
   "source": [
    "# 예제 5: List 데이터로 원그래프 그리기\n",
    "\n",
    "import pandas as pd  \n",
    "import matplotlib.pyplot as plt \n",
    "\n",
    "기호 = ['1번', '2번', '3번', '4번', '5번', '6번', '7번']\n",
    "득표수 = [50, 120, 36, 21, 50, 19, 95]\n",
    "\n",
    "plt.pie(득표수, labels=기호)  # 빈 figure에 득표수에 따라 다른 넓이를 가지도록 원그래프를 그림\n",
    "plt.title(\"학생회장 선거 득표 비율\")\n",
    "plt.show()  # figure를 출력"
   ]
  },
  {
   "cell_type": "markdown",
   "id": "ca80c81d-8971-4240-a6c7-8a3638b1db94",
   "metadata": {},
   "source": [
    "**예제 6: List 데이터로 원그래프 그리고 비율 쓰기**"
   ]
  },
  {
   "cell_type": "code",
   "execution_count": null,
   "id": "1171ab22-98db-460b-aa1e-0f3306486711",
   "metadata": {},
   "outputs": [],
   "source": [
    "# 예제 6: List 데이터로 원그래프 그리고 비율 쓰기\n",
    "\n",
    "plt.pie(득표수, labels=기호, autopct='%.1f', counterclock=False)  \n",
    "# 빈 figure에 득표수에 따라 다른 넓이를 가지도록 원그래프를 시계방향으로 그리고 비율을 소수 첫째 자리까지 작성\n",
    "plt.title(\"학생회장 선거 득표 비율\")\n",
    "plt.show()  # figure를 출력"
   ]
  },
  {
   "cell_type": "markdown",
   "id": "1b671320-a9ea-4bcf-81bb-475833d63458",
   "metadata": {},
   "source": [
    "#### **판다스 Series 이용하기**\n",
    "\n",
    "Pandas.Series 형태의 데이터를 다음과 같이 `pie` 함수로 원그래프로 나타낼 수 있습니다.  \n",
    "\n",
    "> `plt.pie(Series2, labels=Series1)`  \n",
    "> : Series1 에 따른 Series2 데이터를 원그래프로 그림\n",
    "\n",
    "\n",
    "> 그래프를 출력하기 위해서는 반드시 다음 코드를 연이어 실행해야합니다.  \n",
    "> `plt.show()`"
   ]
  },
  {
   "cell_type": "markdown",
   "id": "d5e40a0d-2680-4561-b60e-1eb526f2d52e",
   "metadata": {},
   "source": [
    "다음은 2022년 동안 거래된 소프트웨어의 프로그램 언어 비율을 조사한 것입니다.    \n",
    "아래 자료를 이용하여 2022년 컴퓨터 프로그램 언어 사용률을 원그래프로 나타내어 봅시다. \n",
    ">\n",
    ">1. Python – 29.48%\n",
    "2. Java – 17.18% \n",
    "3. JavaScript – 9.14%\n",
    "4. C# – 6.94% \n",
    "5. PHP – 6.49%\n",
    "6. C/C++ – 6.49% \n",
    "7. R – 3.59% \n",
    "8. TypeScript – 2.18% \n",
    "9. Swift – 2.1%\n",
    "10. Objective-C – 2.06% \n",
    ">\n"
   ]
  },
  {
   "cell_type": "markdown",
   "id": "df00c39a-f384-465c-8aea-bbc844a2c254",
   "metadata": {},
   "source": [
    "**예제 7: Pandas Series 만들기**"
   ]
  },
  {
   "cell_type": "code",
   "execution_count": null,
   "id": "c66915a1-a9f8-4677-87d6-17b450844ab8",
   "metadata": {},
   "outputs": [],
   "source": [
    "# 예제 7: Pandas Series 만들기\n",
    "\n",
    "import pandas as pd  \n",
    "import matplotlib.pyplot as plt \n",
    "\n",
    "language = pd.Series(data=[29.48, 17.18, 9.14, 6.94, 6.49, 6.49, 3.59, 2.18, 2.1, 2.06],\n",
    "                    index=['Python', 'Java', 'JavaScript', 'C#', 'PHP', 'C/C++', 'R', 'TypeScript', 'Swift', 'Objective-C'])\n",
    "\n",
    "print(language)  # Series를 출력\n",
    "print('\\n합:', language.sum())  # Series 값의 합을 출력"
   ]
  },
  {
   "cell_type": "markdown",
   "id": "5e07c958-0fd3-4eff-9ed9-de7efcb8d1b4",
   "metadata": {},
   "source": [
    "> 상위 10개의 프로그램 언어의 사용률을 다 더하니 100% 가 되지 않습니다.  \n",
    "> 따라서 나머지 언어들의 사용률을 구해서 `others`(나머지)라는 이름의 행을 추가해봅시다. "
   ]
  },
  {
   "cell_type": "markdown",
   "id": "1d8baf32-3f23-4203-903c-95a9822f47fa",
   "metadata": {},
   "source": [
    "**예제 8: Pandas Series 행 추가하기**"
   ]
  },
  {
   "cell_type": "code",
   "execution_count": null,
   "id": "8abed3b8-3221-4807-beb2-3708221af276",
   "metadata": {},
   "outputs": [],
   "source": [
    "# 예제 8: Pandas Series 행 추가하기\n",
    "\n",
    "language.loc['others'] = 100 - language.sum()\n",
    "language"
   ]
  },
  {
   "cell_type": "markdown",
   "id": "43de021e-aef6-4ddc-94a0-a77f6ec7230d",
   "metadata": {},
   "source": [
    "**예제 9: Pandas.Series 데이터로 막대그래프 그리기**"
   ]
  },
  {
   "cell_type": "code",
   "execution_count": null,
   "id": "f493deaa-de9a-43fe-a965-4c5fe4d3c55e",
   "metadata": {},
   "outputs": [],
   "source": [
    "# 예제 9: Pandas.Series 데이터로 막대그래프 그리기\n",
    "\n",
    "plt.pie(language, labels=language.index, autopct='%.1f')\n",
    "# 빈 figure에 사용률에 따라 다른 넓이를 가지도록 원그래프를 그리고 비율을 소수 첫째 자리까지 작성\n",
    "plt.title(\"2022년 프로그램 언어별 사용률\")  # figure의 제목을 작성 \n",
    "plt.show()  # figure를 출력"
   ]
  },
  {
   "cell_type": "markdown",
   "id": "4aa206f4-f3d2-4f7b-a55f-d7d62b40e9a2",
   "metadata": {},
   "source": [
    "<div style=\"padding: 15px; border: 5px solid transparent; border-color: transparent; margin-bottom: 20px; border-radius: 4px; color: #8a6d3b;  border-color: #faebcc;\">\n",
    "    <div style=\"font-weight: bold; font-size: 20px\">💯 연습문제를 풀어봅시다</div>\n",
    "\n",
    "1. <a class=\"jcecodle-mk jcecodle-mk__problem-chip\" data-problem-id=\"Qj8yA_9g3vI\" href='#jce-judge/open/Qj8yA_9g3vI' target='_self'><span>원그래프 그리기 - 우리나라 인구분포</span></a>\n",
    "\n",
    "</div>\n",
    "\n"
   ]
  },
  {
   "cell_type": "markdown",
   "id": "de6266eb-a99b-413c-9a11-c2c40e4d7fb6",
   "metadata": {
    "jp-MarkdownHeadingCollapsed": true,
    "tags": []
   },
   "source": [
    "<div style=\"padding: 15px; border: 5px solid transparent; border-color: transparent; margin-bottom: 20px; border-radius: 4px; color: #3c763d; border-color: #d6e9c6; font-weight: bold;\">\n",
    "<h2 style='font-weight: bold'>3. 히스토그램 그리기</h2>\n",
    "</div> "
   ]
  },
  {
   "cell_type": "markdown",
   "id": "f5f8fa6e-2ad9-4c61-aea6-b690d49d8da9",
   "metadata": {},
   "source": [
    "### **(1) 히스토그램 그리기**\n",
    "\n",
    "히스토그램은 `hist` 함수로 그릴 수 있습니다.  \n",
    "그래프를 얻기 위해서는 빈 figure에 원하는 그래프를 그린 후 출력하는 두가지 단계를 밟아야합니다.   \n",
    "\n",
    "> ①  `plt.hist(data)` 를 통해 빈 figure에 데이터를 이용한 히스토그램을 그릴 수 있습니다.  \n",
    "> ②  `plt.show()` 를 통해 figure를 출력할 수 있습니다. \n",
    "\n",
    "<br>\n",
    "\n",
    "**구간 개수 고정**   \n",
    "히스토그램은 구간이 자동적으로 나뉘어집니다.   \n",
    "그러나 필요한 경우 구간의 개수를 지정해줄 수 있습니다.  \n",
    "\n",
    "> `plt.hist(List, bins=N)`  \n",
    ">: 값의 범위를 N개 구간으로 나누어 히스토그램을 그림\n"
   ]
  },
  {
   "cell_type": "markdown",
   "id": "2e2c1cb1-e186-40ea-b58b-55d73c8af5b1",
   "metadata": {},
   "source": [
    "**예제 10: List 데이터로 히스토그램 그리기**"
   ]
  },
  {
   "cell_type": "code",
   "execution_count": null,
   "id": "620919cf-6c8e-4391-8a08-ed1a8a9ef478",
   "metadata": {},
   "outputs": [],
   "source": [
    "# 예제 10: List 데이터로 히스토그램 그리기\n",
    "\n",
    "import pandas as pd  \n",
    "import matplotlib.pyplot as plt \n",
    "\n",
    "쪽지시험점수 = [0] * 3 + [1] * 5 + [2] * 8 + [3] * 10 + [4] * 9 + [5] * 8  # 모든 학생의 점수를 모은 리스트\n",
    "print(쪽지시험점수)\n",
    "\n",
    "plt.hist(쪽지시험점수)  # 쪽지시험점수 안의 값들의 각 범위별 빈도수를 이용해 히스토그램을 그림\n",
    "plt.title(\"쪽지시험 점수 분포\")\n",
    "plt.show()  # figure를 출력"
   ]
  },
  {
   "cell_type": "markdown",
   "id": "6ace88ab-f1c8-4131-8092-981e51c68761",
   "metadata": {},
   "source": [
    "**예제 11: List 데이터로 구간의 개수 정해서 히스토그램 그리기**"
   ]
  },
  {
   "cell_type": "code",
   "execution_count": null,
   "id": "423a9cdd-9b24-4c6b-8588-38eae00e6ac8",
   "metadata": {},
   "outputs": [],
   "source": [
    "# 예제 11: List 데이터로 구간의 개수 정해서 히스토그램 그리기\n",
    "\n",
    "print(쪽지시험점수)  # 모든 학생의 점수를 모은 리스트\n",
    "\n",
    "plt.hist(쪽지시험점수, bins=6)  # 쪽지시험점수 안의 값들을 총 6개 구간 범위별로 빈도수를 구해 히스토그램을 그림\n",
    "plt.title(\"쪽지시험 점수 분포\")\n",
    "plt.show()  # figure를 출력"
   ]
  },
  {
   "cell_type": "markdown",
   "id": "b26a855e-3136-4578-b36b-c774162e84e2",
   "metadata": {},
   "source": [
    "#### **판다스 Series 이용하기**\n",
    "\n",
    "Pandas.Series 형태의 데이터를 다음과 같이 `hist` 함수로 히스토그램으로 나타낼 수 있습니다.  \n",
    "\n",
    "> `plt.hist(Series, bins=N)`  \n",
    "> : Series의 데이터를 값의 범위에 따라 히스토그램으로 그림\n",
    "\n",
    "\n",
    "> 그래프를 출력하기 위해서는 반드시 다음 코드를 연이어 실행해야합니다.  \n",
    "> `plt.show()`"
   ]
  },
  {
   "cell_type": "markdown",
   "id": "4ff62952-6079-4624-94ce-f757401e5a37",
   "metadata": {},
   "source": [
    "**seaborn** 라이브러리에서 제공하는 **tips** 데이터에는 레스토랑의 손님들이 음식값과 팁으로 얼마를 지불했는지 저장되어 있습니다.    \n",
    "아래 자료를 이용하여 **손님들이 음식값 대비 몇 퍼센트의 금액을 팁으로 지불하는지** 히스토그램으로 나타내어 봅시다. \n",
    ">\n",
    "> * total_bill : 음식값\n",
    "> * tip : 팁\n",
    ">\n",
    ">  "
   ]
  },
  {
   "cell_type": "markdown",
   "id": "c195e860-b4e1-41aa-8a24-117a3e64e20f",
   "metadata": {},
   "source": [
    "**예제 12: seaborn 라이브러리에서 제공하는 tips 데이터 가져오기**"
   ]
  },
  {
   "cell_type": "code",
   "execution_count": null,
   "id": "08329e97-b31a-4d86-b902-0ed42b981353",
   "metadata": {},
   "outputs": [],
   "source": [
    "# 예제 12: seaborn 라이브러리에서 제공하는 tips 데이터 가져오기\n",
    "\n",
    "import pandas as pd  \n",
    "import matplotlib.pyplot as plt \n",
    "import seaborn as sns  # seaborn 라이브러리를 sns로 축약하여 불러옵니다.\n",
    "\n",
    "df = sns.load_dataset(\"tips\")[['total_bill', 'tip']]  # tips 데이터를 불러옵니다.\n",
    "df"
   ]
  },
  {
   "cell_type": "markdown",
   "id": "605738ee-e654-4867-8ac8-a4525295600b",
   "metadata": {},
   "source": [
    "**누적분포함수**  \n",
    "\n",
    "`density=True, cumulative=True` 로 인수를 지정하면 밀도함수를 x축의 방향에 따라 누적한 누적분포함수를 얻을 수 있습니다.  \n",
    "> 예를 들어 10% 이하의 비율로 팁을 낸 손님의 비율이 x=10 일때의 y축 값이 됩니다.    \n",
    "따라서 x값의 최댓값에서의 y값은 1(100%)이 됩니다.  \n",
    ">\n",
    "> 아래 결과를 보고 음식값의 20% 이하를 팁으로 낸 손님의 비율을 확인해봅시다.  "
   ]
  },
  {
   "cell_type": "markdown",
   "id": "ff1532b6-91d0-411e-aa36-89f9fa2742fd",
   "metadata": {},
   "source": [
    "**예제 13: Pandas Series 데이터로 누적분포함수 그리기**"
   ]
  },
  {
   "cell_type": "code",
   "execution_count": null,
   "id": "b52c6596-ba15-48f2-b2ca-706664503813",
   "metadata": {},
   "outputs": [],
   "source": [
    "# 예제 13: Pandas Series 데이터로 누적분포함수 그리기\n",
    "\n",
    "print(tip_per_total_bill)  # 음식값에 대한 팁의 비율\n",
    "\n",
    "plt.hist(tip_per_total_bill, bins=30, density=True, cumulative=True)  # 값의 범위를 30개의 구간으로 나누어 팁의 비율의 빈도수를 누적분포함수로 그림\n",
    "plt.title('지불 금액에 대한 팁의 비율 분포')\n",
    "plt.show()"
   ]
  },
  {
   "cell_type": "markdown",
   "id": "25fd6b3c-0e7e-4c6b-aede-b63435cb5284",
   "metadata": {},
   "source": [
    "<div style=\"padding: 15px; border: 5px solid transparent; border-color: transparent; margin-bottom: 20px; border-radius: 4px; color: #8a6d3b;  border-color: #faebcc;\">\n",
    "    <div style=\"font-weight: bold; font-size: 20px\">💯 연습문제를 풀어봅시다</div>\n",
    "\n",
    "1. <a class=\"jcecodle-mk jcecodle-mk__problem-chip\" data-problem-id=\"eY7-4GPF29g\" href='#jce-judge/open/eY7-4GPF29g' target='_self'><span>히스토그램 그리기 - a와 b의 분포</span></a>\n",
    "2. <a class=\"jcecodle-mk jcecodle-mk__problem-chip\" data-problem-id=\"1KoqPXU39f8\" href='#jce-judge/open/1KoqPXU39f8' target='_self'><span>히스토그램 그리기 - 펭귄 날개 길이 분포</span></a>\n",
    "\n",
    "</div>"
   ]
  },
  {
   "cell_type": "markdown",
   "id": "dde93310-9cc5-4ad4-80ce-f7f65d026c03",
   "metadata": {},
   "source": [
    "### **(2) 히스토그램 겹쳐서 그리기**\n",
    " \n",
    "Numpy.array 형태의 데이터를 이용하여 hist 함수를 연달아 사용해 여러개의 히스토그램을 겹쳐서 그리는 방법을 설명하겠습니다. \n",
    "\n",
    "> `plt.hist(data1, bins=N)`  : 빈 figure에 data1의 값의 범위에 따라 히스토그램으로 그림  \n",
    "> `plt.hist(data2, bins=M)`  : 위의 figure에 data2의 값의 범위에 따라 히스토그램으로 겹쳐서 그림  \n",
    ">\n",
    "\n",
    "> 그래프를 출력하기 위해서는 반드시 다음 코드를 연이어 실행해야합니다.  \n",
    "> `plt.show()`"
   ]
  },
  {
   "cell_type": "markdown",
   "id": "1fc0b3d5-48a9-482f-b5f2-c7f49ab2c319",
   "metadata": {},
   "source": [
    "**예제 14: 히스토그램 겹쳐서 그리기**"
   ]
  },
  {
   "cell_type": "code",
   "execution_count": null,
   "id": "f2275f52-6204-4338-ba3a-47afdaa92645",
   "metadata": {},
   "outputs": [],
   "source": [
    "# 예제 14: 히스토그램 겹쳐서 그리기\n",
    "\n",
    "import pandas as pd  \n",
    "import matplotlib.pyplot as plt \n",
    "import numpy as np  # numpy 라이브러리를 사용하기 위해 np로 축약하여 불러옵니다.\n",
    "\n",
    "numbers = np.random.standard_normal(10000)  # 표준정규분포(표준편차 1)를 확률밀도함수로 하여 난수를 10000개 생성\n",
    "numbers2 = 2*np.random.standard_normal(10000)  # 표준편차가 2인 정규분포를 확률밀도함수로 하여 난수를 10000개 생성\n",
    "numbers4 = 4*np.random.standard_normal(10000)  # 표준편차가 4인 표준정규분포를 확률밀도함수로 하여 난수를 10000개 생성\n",
    "\n",
    "plt.hist(numbers, bins=100, density=True, label='1')  # 값의 범위를 100개의 구간으로 나누어 난수의 빈도수를 밀도함수로 그림\n",
    "plt.hist(numbers2, bins=100, density=True, label='2')  # 값의 범위를 100개의 구간으로 나누어 난수의 빈도수를 밀도함수로 그림\n",
    "plt.hist(numbers4, bins=100, density=True, label='4')  # 값의 범위를 100개의 구간으로 나누어 난수의 빈도수를 밀도함수로 그림\n",
    "plt.legend()\n",
    "plt.show()  # figure를 출력"
   ]
  },
  {
   "cell_type": "markdown",
   "id": "778f47c1-f943-43a4-927f-f04ae79875fa",
   "metadata": {},
   "source": [
    "위의 결과를 보면 세 개의 히스토그램의 겹쳐져 가려진 부분이 생깁니다.  \n",
    "이런때에는 그래프의 안쪽을 색칠하지 않고 가장자리만 그려주는 step 형태의 히스토그램으로 바꾸어주면 됩니다.  \n",
    "> 다음과 같이 histtype 인수를 지정하여 히스토그램 타입을 바꿀 수 있습니다.  \n",
    ">\n",
    "> * `histtype='bar'` : 색칠된 막대 형태 히스토그램  \n",
    "> * `histtype='step'` : 막대의 가장자리를 따라 그린 히스토그램"
   ]
  },
  {
   "cell_type": "markdown",
   "id": "e3a28bca-3dcf-4708-b0b6-1383975ef0b7",
   "metadata": {},
   "source": [
    "**예제 15: 히스토그램 겹쳐서 그리기 (step 형태)**"
   ]
  },
  {
   "cell_type": "code",
   "execution_count": null,
   "id": "146b5b88-774e-433d-aed1-5435676ba68d",
   "metadata": {},
   "outputs": [],
   "source": [
    "# 예제 15: 히스토그램 겹쳐서 그리기 (step 형태)\n",
    "\n",
    "import pandas as pd  \n",
    "import matplotlib.pyplot as plt \n",
    "import numpy as np  # numpy 라이브러리를 사용하기 위해 np로 축약하여 불러옵니다.\n",
    "\n",
    "numbers = np.random.standard_normal(10000)  # 표준정규분포(표준편차 1)를 확률밀도함수로 하여 난수를 10000개 생성\n",
    "numbers2 = 2*np.random.standard_normal(10000)  # 표준편차가 2인 정규분포를 확률밀도함수로 하여 난수를 10000개 생성\n",
    "numbers4 = 4*np.random.standard_normal(10000)  # 표준편차가 4인 표준정규분포를 확률밀도함수로 하여 난수를 10000개 생성\n",
    "\n",
    "plt.hist(numbers, bins=100, density=True, label='1')  # 값의 범위를 100개의 구간으로 나누어 난수의 빈도수를 밀도함수로 그림\n",
    "plt.hist(numbers2, bins=100, density=True, histtype='step', label='2')  # 값의 범위를 100개의 구간으로 나누어 난수의 빈도수를 밀도함수로 그리고 가장자리만 색칠\n",
    "plt.hist(numbers4, bins=100, density=True, histtype='step', label='4')  # 값의 범위를 100개의 구간으로 나누어 난수의 빈도수를 밀도함수로 그리고 가장자리만 색칠\n",
    "plt.legend()\n",
    "plt.show()  # figure를 출력"
   ]
  },
  {
   "cell_type": "markdown",
   "id": "0bb535d3-a3ad-4daa-8b1d-7386264228c4",
   "metadata": {},
   "source": [
    "<div style=\"padding: 15px; border: 5px solid transparent; border-color: transparent; margin-bottom: 20px; border-radius: 4px; color: #8a6d3b;  border-color: #faebcc;\">\n",
    "    <div style=\"font-weight: bold; font-size: 20px\">💯 연습문제를 풀어봅시다</div>\n",
    "\n",
    "1. <a class=\"jcecodle-mk jcecodle-mk__problem-chip\" data-problem-id=\"xcoXB1gkY8c\" href='#jce-judge/open/xcoXB1gkY8c' target='_self'><span>히스토그램 중첩 - 펭귄 별 날개 길이 분포</span></a>\n",
    "\n",
    "</div>"
   ]
  }
 ],
 "metadata": {
  "kernelspec": {
   "display_name": "Python 3 (ipykernel)",
   "language": "python",
   "name": "python3"
  },
  "language_info": {
   "codemirror_mode": {
    "name": "ipython",
    "version": 3
   },
   "file_extension": ".py",
   "mimetype": "text/x-python",
   "name": "python",
   "nbconvert_exporter": "python",
   "pygments_lexer": "ipython3",
   "version": "3.10.12"
  }
 },
 "nbformat": 4,
 "nbformat_minor": 5
}
